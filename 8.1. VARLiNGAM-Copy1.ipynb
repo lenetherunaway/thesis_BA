{
 "cells": [
  {
   "cell_type": "markdown",
   "metadata": {},
   "source": [
    "# VARLiNGAM"
   ]
  },
  {
   "cell_type": "markdown",
   "metadata": {},
   "source": [
    "## Import and settings\n",
    "In this example, we need to import `numpy`, `pandas`, and `graphviz` in addition to `lingam`."
   ]
  },
  {
   "cell_type": "code",
   "execution_count": 1,
   "metadata": {},
   "outputs": [],
   "source": [
    "import os\n",
    "os.environ[\"PATH\"] += os.pathsep + '/Users/elena/opt/anaconda3/lib/python3.7/site-packages/graphviz'"
   ]
  },
  {
   "cell_type": "code",
   "execution_count": 2,
   "metadata": {},
   "outputs": [],
   "source": [
    "from sklearn.preprocessing import StandardScaler"
   ]
  },
  {
   "cell_type": "code",
   "execution_count": 3,
   "metadata": {},
   "outputs": [
    {
     "name": "stdout",
     "output_type": "stream",
     "text": [
      "['1.17.2', '0.25.1', '0.14', '1.2.1']\n"
     ]
    }
   ],
   "source": [
    "import numpy as np\n",
    "import pandas as pd\n",
    "import graphviz\n",
    "import lingam\n",
    "from lingam.utils import make_dot, print_causal_directions, print_dagc\n",
    "\n",
    "print([np.__version__, pd.__version__, graphviz.__version__, lingam.__version__])\n",
    "\n",
    "np.set_printoptions(precision=3, suppress=True)\n",
    "np.random.seed(0)"
   ]
  },
  {
   "cell_type": "markdown",
   "metadata": {},
   "source": [
    "## Test data\n",
    "We create test data consisting of 5 variables."
   ]
  },
  {
   "cell_type": "code",
   "execution_count": 4,
   "metadata": {},
   "outputs": [],
   "source": [
    "from sklearn.preprocessing import StandardScaler"
   ]
  },
  {
   "cell_type": "code",
   "execution_count": 5,
   "metadata": {},
   "outputs": [],
   "source": [
    "df = pd.read_csv('/Users/elena/Documents/Диплом/Data/russia.csv')"
   ]
  },
  {
   "cell_type": "code",
   "execution_count": 6,
   "metadata": {},
   "outputs": [
    {
     "data": {
      "text/plain": [
       "Index(['x6', 'dlngdp', 'x4', 'x9', 'x5', 'x1', 'x7', 'x11', 'gdp', 'x2', 'x10',\n",
       "       'x8', 'x3', 'temp', 'id', 'country', 'time', 'lnx1', 'lnx2', 'lntr',\n",
       "       'lnco2', 'lnmc', 'lncp', 'lnfa', 'lnen', 'lngdp'],\n",
       "      dtype='object')"
      ]
     },
     "execution_count": 6,
     "metadata": {},
     "output_type": "execute_result"
    }
   ],
   "source": [
    "df.columns"
   ]
  },
  {
   "cell_type": "code",
   "execution_count": 7,
   "metadata": {},
   "outputs": [],
   "source": [
    "df['dlnCO2'] = df['lnco2'].diff()\n",
    "df['dlnEn'] = df['lnen'].diff()\n",
    "df['dlnx1'] = df['lnx1'].diff()\n",
    "df['dlnx2'] = df['lnx2'].diff()\n",
    "df['dlnTr'] = df['lntr'].diff()\n",
    "df['dlnMC'] = df['lnmc'].diff()\n",
    "df['dlnFA'] = df['lnfa'].diff()\n",
    "df['dlnCP'] = df['lncp'].diff()"
   ]
  },
  {
   "cell_type": "code",
   "execution_count": 8,
   "metadata": {},
   "outputs": [],
   "source": [
    "X_raw = df[['temp', 'dlngdp', 'dlnCO2', 'dlnEn', 'dlnTr', 'dlnMC', 'dlnFA']]"
   ]
  },
  {
   "cell_type": "code",
   "execution_count": 9,
   "metadata": {},
   "outputs": [
    {
     "data": {
      "text/html": [
       "<div>\n",
       "<style scoped>\n",
       "    .dataframe tbody tr th:only-of-type {\n",
       "        vertical-align: middle;\n",
       "    }\n",
       "\n",
       "    .dataframe tbody tr th {\n",
       "        vertical-align: top;\n",
       "    }\n",
       "\n",
       "    .dataframe thead th {\n",
       "        text-align: right;\n",
       "    }\n",
       "</style>\n",
       "<table border=\"1\" class=\"dataframe\">\n",
       "  <thead>\n",
       "    <tr style=\"text-align: right;\">\n",
       "      <th></th>\n",
       "      <th>temp</th>\n",
       "      <th>dlngdp</th>\n",
       "      <th>dlnCO2</th>\n",
       "      <th>dlnEn</th>\n",
       "      <th>dlnTr</th>\n",
       "      <th>dlnMC</th>\n",
       "      <th>dlnFA</th>\n",
       "    </tr>\n",
       "  </thead>\n",
       "  <tbody>\n",
       "    <tr>\n",
       "      <td>0</td>\n",
       "      <td>-6.11068</td>\n",
       "      <td>0.034353</td>\n",
       "      <td>NaN</td>\n",
       "      <td>NaN</td>\n",
       "      <td>NaN</td>\n",
       "      <td>NaN</td>\n",
       "      <td>NaN</td>\n",
       "    </tr>\n",
       "    <tr>\n",
       "      <td>1</td>\n",
       "      <td>-5.71303</td>\n",
       "      <td>-0.075590</td>\n",
       "      <td>-0.068704</td>\n",
       "      <td>-0.064830</td>\n",
       "      <td>-0.090092</td>\n",
       "      <td>-0.050997</td>\n",
       "      <td>0.000269</td>\n",
       "    </tr>\n",
       "    <tr>\n",
       "      <td>2</td>\n",
       "      <td>-6.10001</td>\n",
       "      <td>-0.109830</td>\n",
       "      <td>-0.130972</td>\n",
       "      <td>-0.097810</td>\n",
       "      <td>-0.009272</td>\n",
       "      <td>-0.079388</td>\n",
       "      <td>0.000335</td>\n",
       "    </tr>\n",
       "    <tr>\n",
       "      <td>3</td>\n",
       "      <td>-4.28530</td>\n",
       "      <td>-0.019660</td>\n",
       "      <td>-0.040459</td>\n",
       "      <td>-0.017328</td>\n",
       "      <td>-0.050391</td>\n",
       "      <td>0.285555</td>\n",
       "      <td>0.000220</td>\n",
       "    </tr>\n",
       "    <tr>\n",
       "      <td>4</td>\n",
       "      <td>-5.84359</td>\n",
       "      <td>-0.026030</td>\n",
       "      <td>-0.009954</td>\n",
       "      <td>-0.016824</td>\n",
       "      <td>-0.033485</td>\n",
       "      <td>-0.113912</td>\n",
       "      <td>0.000065</td>\n",
       "    </tr>\n",
       "    <tr>\n",
       "      <td>5</td>\n",
       "      <td>-5.42981</td>\n",
       "      <td>0.017866</td>\n",
       "      <td>-0.053764</td>\n",
       "      <td>-0.016243</td>\n",
       "      <td>-0.012897</td>\n",
       "      <td>-0.009157</td>\n",
       "      <td>-0.000003</td>\n",
       "    </tr>\n",
       "    <tr>\n",
       "      <td>6</td>\n",
       "      <td>-6.49114</td>\n",
       "      <td>-0.337210</td>\n",
       "      <td>-0.018538</td>\n",
       "      <td>-0.017906</td>\n",
       "      <td>0.170542</td>\n",
       "      <td>-0.103054</td>\n",
       "      <td>-0.000122</td>\n",
       "    </tr>\n",
       "    <tr>\n",
       "      <td>7</td>\n",
       "      <td>-5.98445</td>\n",
       "      <td>-0.285060</td>\n",
       "      <td>0.026636</td>\n",
       "      <td>0.030633</td>\n",
       "      <td>-0.017162</td>\n",
       "      <td>0.036506</td>\n",
       "      <td>-0.000401</td>\n",
       "    </tr>\n",
       "    <tr>\n",
       "      <td>8</td>\n",
       "      <td>-5.67297</td>\n",
       "      <td>0.302158</td>\n",
       "      <td>0.021538</td>\n",
       "      <td>0.039148</td>\n",
       "      <td>-0.067484</td>\n",
       "      <td>0.128820</td>\n",
       "      <td>0.000477</td>\n",
       "    </tr>\n",
       "    <tr>\n",
       "      <td>9</td>\n",
       "      <td>-5.63369</td>\n",
       "      <td>0.160126</td>\n",
       "      <td>0.003990</td>\n",
       "      <td>0.014507</td>\n",
       "      <td>0.033460</td>\n",
       "      <td>-0.047830</td>\n",
       "      <td>-0.000063</td>\n",
       "    </tr>\n",
       "    <tr>\n",
       "      <td>10</td>\n",
       "      <td>-5.25430</td>\n",
       "      <td>0.114341</td>\n",
       "      <td>0.004330</td>\n",
       "      <td>0.005682</td>\n",
       "      <td>0.021091</td>\n",
       "      <td>0.017177</td>\n",
       "      <td>-0.000149</td>\n",
       "    </tr>\n",
       "    <tr>\n",
       "      <td>11</td>\n",
       "      <td>-4.95940</td>\n",
       "      <td>0.228536</td>\n",
       "      <td>0.034373</td>\n",
       "      <td>0.032223</td>\n",
       "      <td>0.025073</td>\n",
       "      <td>-0.069489</td>\n",
       "      <td>-0.000121</td>\n",
       "    </tr>\n",
       "    <tr>\n",
       "      <td>12</td>\n",
       "      <td>-5.71775</td>\n",
       "      <td>0.342738</td>\n",
       "      <td>0.002700</td>\n",
       "      <td>0.028028</td>\n",
       "      <td>0.071965</td>\n",
       "      <td>0.013221</td>\n",
       "      <td>-0.000134</td>\n",
       "    </tr>\n",
       "    <tr>\n",
       "      <td>13</td>\n",
       "      <td>-4.63428</td>\n",
       "      <td>0.258457</td>\n",
       "      <td>0.011880</td>\n",
       "      <td>0.023898</td>\n",
       "      <td>-0.001575</td>\n",
       "      <td>0.014969</td>\n",
       "      <td>-0.000128</td>\n",
       "    </tr>\n",
       "    <tr>\n",
       "      <td>14</td>\n",
       "      <td>-5.89711</td>\n",
       "      <td>0.261756</td>\n",
       "      <td>0.036264</td>\n",
       "      <td>0.055357</td>\n",
       "      <td>-0.000149</td>\n",
       "      <td>-0.051471</td>\n",
       "      <td>0.001791</td>\n",
       "    </tr>\n",
       "    <tr>\n",
       "      <td>15</td>\n",
       "      <td>-4.11961</td>\n",
       "      <td>0.280769</td>\n",
       "      <td>0.000286</td>\n",
       "      <td>0.030284</td>\n",
       "      <td>0.009304</td>\n",
       "      <td>0.115978</td>\n",
       "      <td>0.001566</td>\n",
       "    </tr>\n",
       "    <tr>\n",
       "      <td>16</td>\n",
       "      <td>-4.50351</td>\n",
       "      <td>0.254032</td>\n",
       "      <td>0.028883</td>\n",
       "      <td>0.017916</td>\n",
       "      <td>0.048295</td>\n",
       "      <td>-0.004873</td>\n",
       "      <td>0.001616</td>\n",
       "    </tr>\n",
       "    <tr>\n",
       "      <td>17</td>\n",
       "      <td>-5.76957</td>\n",
       "      <td>-0.269630</td>\n",
       "      <td>-0.086053</td>\n",
       "      <td>-0.048718</td>\n",
       "      <td>0.003889</td>\n",
       "      <td>0.039274</td>\n",
       "      <td>0.001560</td>\n",
       "    </tr>\n",
       "    <tr>\n",
       "      <td>18</td>\n",
       "      <td>-5.63587</td>\n",
       "      <td>0.232310</td>\n",
       "      <td>0.059044</td>\n",
       "      <td>0.050312</td>\n",
       "      <td>0.007275</td>\n",
       "      <td>0.011181</td>\n",
       "      <td>0.001559</td>\n",
       "    </tr>\n",
       "    <tr>\n",
       "      <td>19</td>\n",
       "      <td>-4.43382</td>\n",
       "      <td>0.316868</td>\n",
       "      <td>0.053325</td>\n",
       "      <td>0.011767</td>\n",
       "      <td>-0.025664</td>\n",
       "      <td>-0.017475</td>\n",
       "      <td>-0.000051</td>\n",
       "    </tr>\n",
       "    <tr>\n",
       "      <td>20</td>\n",
       "      <td>-4.98990</td>\n",
       "      <td>0.055251</td>\n",
       "      <td>0.035840</td>\n",
       "      <td>0.020053</td>\n",
       "      <td>-0.016813</td>\n",
       "      <td>-0.048433</td>\n",
       "      <td>-0.000050</td>\n",
       "    </tr>\n",
       "    <tr>\n",
       "      <td>21</td>\n",
       "      <td>-4.80609</td>\n",
       "      <td>0.019207</td>\n",
       "      <td>-0.031094</td>\n",
       "      <td>-0.011846</td>\n",
       "      <td>0.040831</td>\n",
       "      <td>0.064527</td>\n",
       "      <td>-0.000050</td>\n",
       "    </tr>\n",
       "    <tr>\n",
       "      <td>22</td>\n",
       "      <td>-4.85584</td>\n",
       "      <td>-0.135450</td>\n",
       "      <td>-0.044214</td>\n",
       "      <td>0.009656</td>\n",
       "      <td>0.019068</td>\n",
       "      <td>0.056552</td>\n",
       "      <td>-0.000051</td>\n",
       "    </tr>\n",
       "  </tbody>\n",
       "</table>\n",
       "</div>"
      ],
      "text/plain": [
       "       temp    dlngdp    dlnCO2     dlnEn     dlnTr     dlnMC     dlnFA\n",
       "0  -6.11068  0.034353       NaN       NaN       NaN       NaN       NaN\n",
       "1  -5.71303 -0.075590 -0.068704 -0.064830 -0.090092 -0.050997  0.000269\n",
       "2  -6.10001 -0.109830 -0.130972 -0.097810 -0.009272 -0.079388  0.000335\n",
       "3  -4.28530 -0.019660 -0.040459 -0.017328 -0.050391  0.285555  0.000220\n",
       "4  -5.84359 -0.026030 -0.009954 -0.016824 -0.033485 -0.113912  0.000065\n",
       "5  -5.42981  0.017866 -0.053764 -0.016243 -0.012897 -0.009157 -0.000003\n",
       "6  -6.49114 -0.337210 -0.018538 -0.017906  0.170542 -0.103054 -0.000122\n",
       "7  -5.98445 -0.285060  0.026636  0.030633 -0.017162  0.036506 -0.000401\n",
       "8  -5.67297  0.302158  0.021538  0.039148 -0.067484  0.128820  0.000477\n",
       "9  -5.63369  0.160126  0.003990  0.014507  0.033460 -0.047830 -0.000063\n",
       "10 -5.25430  0.114341  0.004330  0.005682  0.021091  0.017177 -0.000149\n",
       "11 -4.95940  0.228536  0.034373  0.032223  0.025073 -0.069489 -0.000121\n",
       "12 -5.71775  0.342738  0.002700  0.028028  0.071965  0.013221 -0.000134\n",
       "13 -4.63428  0.258457  0.011880  0.023898 -0.001575  0.014969 -0.000128\n",
       "14 -5.89711  0.261756  0.036264  0.055357 -0.000149 -0.051471  0.001791\n",
       "15 -4.11961  0.280769  0.000286  0.030284  0.009304  0.115978  0.001566\n",
       "16 -4.50351  0.254032  0.028883  0.017916  0.048295 -0.004873  0.001616\n",
       "17 -5.76957 -0.269630 -0.086053 -0.048718  0.003889  0.039274  0.001560\n",
       "18 -5.63587  0.232310  0.059044  0.050312  0.007275  0.011181  0.001559\n",
       "19 -4.43382  0.316868  0.053325  0.011767 -0.025664 -0.017475 -0.000051\n",
       "20 -4.98990  0.055251  0.035840  0.020053 -0.016813 -0.048433 -0.000050\n",
       "21 -4.80609  0.019207 -0.031094 -0.011846  0.040831  0.064527 -0.000050\n",
       "22 -4.85584 -0.135450 -0.044214  0.009656  0.019068  0.056552 -0.000051"
      ]
     },
     "execution_count": 9,
     "metadata": {},
     "output_type": "execute_result"
    }
   ],
   "source": [
    "X_raw"
   ]
  },
  {
   "cell_type": "code",
   "execution_count": 10,
   "metadata": {},
   "outputs": [],
   "source": [
    "standard_scaler = StandardScaler(with_std=False)\n",
    "X = standard_scaler.fit_transform(X_raw)"
   ]
  },
  {
   "cell_type": "code",
   "execution_count": 11,
   "metadata": {},
   "outputs": [],
   "source": [
    "#X = np.array(df[['temp', 'lnGDP', 'lnCO2', 'lnEn']])"
   ]
  },
  {
   "cell_type": "code",
   "execution_count": 12,
   "metadata": {},
   "outputs": [],
   "source": [
    "# B0 = [\n",
    "#     [0,-0.12,0,0,0],\n",
    "#     [0,0,0,0,0],\n",
    "#     [-0.41,0.01,0,-0.02,0],\n",
    "#     [0.04,-0.22,0,0,0],\n",
    "#     [0.15,0,-0.03,0,0],\n",
    "# ]\n",
    "# B1 = [\n",
    "#     [-0.32,0,0.12,0.32,0],\n",
    "#     [0,-0.35,-0.1,-0.46,0.4],\n",
    "#     [0,0,0.37,0,0.46],\n",
    "#     [-0.38,-0.1,-0.24,0,-0.13],\n",
    "#     [0,0,0,0,0],\n",
    "#  ]\n",
    "causal_order = [2, 1, 1, 1, 0, 0, 1]\n",
    "\n",
    "# data generated from B0 and B1\n",
    "#X = pd.read_csv('data/sample_data_var_lingam.csv')"
   ]
  },
  {
   "cell_type": "markdown",
   "metadata": {},
   "source": [
    "## Causal Discovery\n",
    "To run causal discovery, we create a `VARLiNGAM` object and call the `fit` method."
   ]
  },
  {
   "cell_type": "code",
   "execution_count": 13,
   "metadata": {},
   "outputs": [
    {
     "data": {
      "text/plain": [
       "<lingam.var_lingam.VARLiNGAM at 0x1a1eecac50>"
      ]
     },
     "execution_count": 13,
     "metadata": {},
     "output_type": "execute_result"
    }
   ],
   "source": [
    "model = lingam.VARLiNGAM()\n",
    "model.fit(X[1:])"
   ]
  },
  {
   "cell_type": "markdown",
   "metadata": {},
   "source": [
    "Using the `causal_order_` properties, we can see the causal ordering as a result of the causal discovery."
   ]
  },
  {
   "cell_type": "code",
   "execution_count": 14,
   "metadata": {},
   "outputs": [
    {
     "data": {
      "text/plain": [
       "[6, 3, 2, 5, 4, 1, 0]"
      ]
     },
     "execution_count": 14,
     "metadata": {},
     "output_type": "execute_result"
    }
   ],
   "source": [
    "model.causal_order_"
   ]
  },
  {
   "cell_type": "markdown",
   "metadata": {},
   "source": [
    "Also, using the `adjacency_matrices_` properties, we can see the adjacency matrix as a result of the causal discovery."
   ]
  },
  {
   "cell_type": "code",
   "execution_count": 15,
   "metadata": {},
   "outputs": [
    {
     "data": {
      "text/plain": [
       "array([[[0.   , 1.094, 0.   , 0.   , 0.   , 3.199, 0.   ],\n",
       "        [0.   , 0.   , 0.826, 1.416, 0.   , 0.   , 0.   ],\n",
       "        [0.   , 0.   , 0.   , 1.073, 0.   , 0.   , 0.   ],\n",
       "        [0.   , 0.   , 0.   , 0.   , 0.   , 0.   , 0.   ],\n",
       "        [0.   , 0.   , 0.   , 0.   , 0.   , 0.   , 0.   ],\n",
       "        [0.   , 0.   , 0.   , 0.   , 0.   , 0.   , 0.   ],\n",
       "        [0.   , 0.   , 0.   , 0.   , 0.   , 0.   , 0.   ]]])"
      ]
     },
     "execution_count": 15,
     "metadata": {},
     "output_type": "execute_result"
    }
   ],
   "source": [
    "model.adjacency_matrices_"
   ]
  },
  {
   "cell_type": "code",
   "execution_count": 16,
   "metadata": {},
   "outputs": [
    {
     "data": {
      "text/plain": [
       "array([[0.   , 1.094, 0.   , 0.   , 0.   , 3.199, 0.   ],\n",
       "       [0.   , 0.   , 0.826, 1.416, 0.   , 0.   , 0.   ],\n",
       "       [0.   , 0.   , 0.   , 1.073, 0.   , 0.   , 0.   ],\n",
       "       [0.   , 0.   , 0.   , 0.   , 0.   , 0.   , 0.   ],\n",
       "       [0.   , 0.   , 0.   , 0.   , 0.   , 0.   , 0.   ],\n",
       "       [0.   , 0.   , 0.   , 0.   , 0.   , 0.   , 0.   ],\n",
       "       [0.   , 0.   , 0.   , 0.   , 0.   , 0.   , 0.   ]])"
      ]
     },
     "execution_count": 16,
     "metadata": {},
     "output_type": "execute_result"
    }
   ],
   "source": [
    "# B0\n",
    "model.adjacency_matrices_[0]"
   ]
  },
  {
   "cell_type": "code",
   "execution_count": 17,
   "metadata": {
    "scrolled": true
   },
   "outputs": [
    {
     "ename": "IndexError",
     "evalue": "index 1 is out of bounds for axis 0 with size 1",
     "output_type": "error",
     "traceback": [
      "\u001b[0;31m---------------------------------------------------------------------------\u001b[0m",
      "\u001b[0;31mIndexError\u001b[0m                                Traceback (most recent call last)",
      "\u001b[0;32m<ipython-input-17-2c875d59dc63>\u001b[0m in \u001b[0;36m<module>\u001b[0;34m\u001b[0m\n\u001b[1;32m      1\u001b[0m \u001b[0;31m# B1\u001b[0m\u001b[0;34m\u001b[0m\u001b[0;34m\u001b[0m\u001b[0;34m\u001b[0m\u001b[0m\n\u001b[0;32m----> 2\u001b[0;31m \u001b[0mmodel\u001b[0m\u001b[0;34m.\u001b[0m\u001b[0madjacency_matrices_\u001b[0m\u001b[0;34m[\u001b[0m\u001b[0;36m1\u001b[0m\u001b[0;34m]\u001b[0m\u001b[0;34m\u001b[0m\u001b[0;34m\u001b[0m\u001b[0m\n\u001b[0m",
      "\u001b[0;31mIndexError\u001b[0m: index 1 is out of bounds for axis 0 with size 1"
     ]
    }
   ],
   "source": [
    "# B1\n",
    "model.adjacency_matrices_[1]"
   ]
  },
  {
   "cell_type": "markdown",
   "metadata": {},
   "source": [
    "We can draw a causal graph by utility funciton."
   ]
  },
  {
   "cell_type": "code",
   "execution_count": 18,
   "metadata": {},
   "outputs": [
    {
     "data": {
      "image/svg+xml": [
       "<?xml version=\"1.0\" encoding=\"UTF-8\" standalone=\"no\"?>\n",
       "<!DOCTYPE svg PUBLIC \"-//W3C//DTD SVG 1.1//EN\"\n",
       " \"http://www.w3.org/Graphics/SVG/1.1/DTD/svg11.dtd\">\n",
       "<!-- Generated by graphviz version 2.44.0 (20200408.0750)\n",
       " -->\n",
       "<!-- Pages: 1 -->\n",
       "<svg width=\"305pt\" height=\"305pt\"\n",
       " viewBox=\"0.00 0.00 304.59 305.00\" xmlns=\"http://www.w3.org/2000/svg\" xmlns:xlink=\"http://www.w3.org/1999/xlink\">\n",
       "<g id=\"graph0\" class=\"graph\" transform=\"scale(1 1) rotate(0) translate(4 301)\">\n",
       "<polygon fill=\"white\" stroke=\"transparent\" points=\"-4,4 -4,-301 300.59,-301 300.59,4 -4,4\"/>\n",
       "<!-- temp(t) -->\n",
       "<g id=\"node1\" class=\"node\">\n",
       "<title>temp(t)</title>\n",
       "<ellipse fill=\"none\" stroke=\"black\" cx=\"107.05\" cy=\"-18\" rx=\"37.09\" ry=\"18\"/>\n",
       "<text text-anchor=\"middle\" x=\"107.05\" y=\"-14.3\" font-family=\"Times,serif\" font-size=\"14.00\">temp(t)</text>\n",
       "</g>\n",
       "<!-- ΔlnGDP(t) -->\n",
       "<g id=\"node2\" class=\"node\">\n",
       "<title>ΔlnGDP(t)</title>\n",
       "<ellipse fill=\"none\" stroke=\"black\" cx=\"50.05\" cy=\"-105\" rx=\"50.09\" ry=\"18\"/>\n",
       "<text text-anchor=\"middle\" x=\"50.05\" y=\"-101.3\" font-family=\"Times,serif\" font-size=\"14.00\">ΔlnGDP(t)</text>\n",
       "</g>\n",
       "<!-- ΔlnGDP(t)&#45;&gt;temp(t) -->\n",
       "<g id=\"edge1\" class=\"edge\">\n",
       "<title>ΔlnGDP(t)&#45;&gt;temp(t)</title>\n",
       "<path fill=\"none\" stroke=\"black\" d=\"M61.31,-87.21C69.56,-74.9 80.9,-58 90.22,-44.09\"/>\n",
       "<polygon fill=\"black\" stroke=\"black\" points=\"93.34,-45.72 96,-35.47 87.53,-41.83 93.34,-45.72\"/>\n",
       "<text text-anchor=\"middle\" x=\"94.55\" y=\"-57.8\" font-family=\"Times,serif\" font-size=\"14.00\">1.09</text>\n",
       "</g>\n",
       "<!-- ΔlnCO2(t) -->\n",
       "<g id=\"node3\" class=\"node\">\n",
       "<title>ΔlnCO2(t)</title>\n",
       "<ellipse fill=\"none\" stroke=\"black\" cx=\"126.05\" cy=\"-192\" rx=\"48.99\" ry=\"18\"/>\n",
       "<text text-anchor=\"middle\" x=\"126.05\" y=\"-188.3\" font-family=\"Times,serif\" font-size=\"14.00\">ΔlnCO2(t)</text>\n",
       "</g>\n",
       "<!-- ΔlnCO2(t)&#45;&gt;ΔlnGDP(t) -->\n",
       "<g id=\"edge3\" class=\"edge\">\n",
       "<title>ΔlnCO2(t)&#45;&gt;ΔlnGDP(t)</title>\n",
       "<path fill=\"none\" stroke=\"black\" d=\"M111.39,-174.61C100.04,-161.91 84.14,-144.13 71.38,-129.86\"/>\n",
       "<polygon fill=\"black\" stroke=\"black\" points=\"73.93,-127.46 64.65,-122.34 68.71,-132.13 73.93,-127.46\"/>\n",
       "<text text-anchor=\"middle\" x=\"105.55\" y=\"-144.8\" font-family=\"Times,serif\" font-size=\"14.00\">0.83</text>\n",
       "</g>\n",
       "<!-- ΔlnEn(t) -->\n",
       "<g id=\"node4\" class=\"node\">\n",
       "<title>ΔlnEn(t)</title>\n",
       "<ellipse fill=\"none\" stroke=\"black\" cx=\"50.05\" cy=\"-279\" rx=\"42.49\" ry=\"18\"/>\n",
       "<text text-anchor=\"middle\" x=\"50.05\" y=\"-275.3\" font-family=\"Times,serif\" font-size=\"14.00\">ΔlnEn(t)</text>\n",
       "</g>\n",
       "<!-- ΔlnEn(t)&#45;&gt;ΔlnGDP(t) -->\n",
       "<g id=\"edge4\" class=\"edge\">\n",
       "<title>ΔlnEn(t)&#45;&gt;ΔlnGDP(t)</title>\n",
       "<path fill=\"none\" stroke=\"black\" d=\"M47.81,-260.99C46.12,-247.26 43.94,-227.42 43.05,-210 42.23,-194.02 42.23,-189.98 43.05,-174 43.74,-160.52 45.2,-145.61 46.6,-133.18\"/>\n",
       "<polygon fill=\"black\" stroke=\"black\" points=\"50.11,-133.35 47.81,-123.01 43.16,-132.53 50.11,-133.35\"/>\n",
       "<text text-anchor=\"middle\" x=\"55.55\" y=\"-188.3\" font-family=\"Times,serif\" font-size=\"14.00\">1.42</text>\n",
       "</g>\n",
       "<!-- ΔlnEn(t)&#45;&gt;ΔlnCO2(t) -->\n",
       "<g id=\"edge5\" class=\"edge\">\n",
       "<title>ΔlnEn(t)&#45;&gt;ΔlnCO2(t)</title>\n",
       "<path fill=\"none\" stroke=\"black\" d=\"M64.34,-262.01C75.73,-249.27 91.86,-231.24 104.77,-216.8\"/>\n",
       "<polygon fill=\"black\" stroke=\"black\" points=\"107.5,-218.99 111.56,-209.21 102.28,-214.33 107.5,-218.99\"/>\n",
       "<text text-anchor=\"middle\" x=\"105.55\" y=\"-231.8\" font-family=\"Times,serif\" font-size=\"14.00\">1.07</text>\n",
       "</g>\n",
       "<!-- ΔlnTr(t) -->\n",
       "<g id=\"node5\" class=\"node\">\n",
       "<title>ΔlnTr(t)</title>\n",
       "<ellipse fill=\"none\" stroke=\"black\" cx=\"151.05\" cy=\"-279\" rx=\"40.09\" ry=\"18\"/>\n",
       "<text text-anchor=\"middle\" x=\"151.05\" y=\"-275.3\" font-family=\"Times,serif\" font-size=\"14.00\">ΔlnTr(t)</text>\n",
       "</g>\n",
       "<!-- ΔlnMC(t) -->\n",
       "<g id=\"node6\" class=\"node\">\n",
       "<title>ΔlnMC(t)</title>\n",
       "<ellipse fill=\"none\" stroke=\"black\" cx=\"164.05\" cy=\"-105\" rx=\"46.29\" ry=\"18\"/>\n",
       "<text text-anchor=\"middle\" x=\"164.05\" y=\"-101.3\" font-family=\"Times,serif\" font-size=\"14.00\">ΔlnMC(t)</text>\n",
       "</g>\n",
       "<!-- ΔlnMC(t)&#45;&gt;temp(t) -->\n",
       "<g id=\"edge2\" class=\"edge\">\n",
       "<title>ΔlnMC(t)&#45;&gt;temp(t)</title>\n",
       "<path fill=\"none\" stroke=\"black\" d=\"M152.78,-87.21C144.53,-74.9 133.2,-58 123.87,-44.09\"/>\n",
       "<polygon fill=\"black\" stroke=\"black\" points=\"126.57,-41.83 118.09,-35.47 120.75,-45.72 126.57,-41.83\"/>\n",
       "<text text-anchor=\"middle\" x=\"150.55\" y=\"-57.8\" font-family=\"Times,serif\" font-size=\"14.00\">3.20</text>\n",
       "</g>\n",
       "<!-- ΔlnFA(t) -->\n",
       "<g id=\"node7\" class=\"node\">\n",
       "<title>ΔlnFA(t)</title>\n",
       "<ellipse fill=\"none\" stroke=\"black\" cx=\"253.05\" cy=\"-279\" rx=\"43.59\" ry=\"18\"/>\n",
       "<text text-anchor=\"middle\" x=\"253.05\" y=\"-275.3\" font-family=\"Times,serif\" font-size=\"14.00\">ΔlnFA(t)</text>\n",
       "</g>\n",
       "</g>\n",
       "</svg>\n"
      ],
      "text/plain": [
       "<graphviz.dot.Digraph at 0x1a1eecaa10>"
      ]
     },
     "execution_count": 18,
     "metadata": {},
     "output_type": "execute_result"
    }
   ],
   "source": [
    "labels = ['temp(t)', 'ΔlnGDP(t)', 'ΔlnCO2(t)', 'ΔlnEn(t)', 'ΔlnTr(t)', 'ΔlnMC(t)', 'ΔlnFA(t)']\n",
    "make_dot(np.hstack(model.adjacency_matrices_), ignore_shape=True, lower_limit=0.6, labels=labels)"
   ]
  },
  {
   "cell_type": "markdown",
   "metadata": {},
   "source": [
    "## Bootstrap"
   ]
  },
  {
   "cell_type": "markdown",
   "metadata": {},
   "source": [
    "### Bootstrapping\n",
    "We call `bootstrap()` method instead of `fit()`. Here, the second argument specifies the number of bootstrap sampling."
   ]
  },
  {
   "cell_type": "code",
   "execution_count": 19,
   "metadata": {},
   "outputs": [],
   "source": [
    "model = lingam.VARLiNGAM()\n",
    "result = model.bootstrap(X[1:], 100)"
   ]
  },
  {
   "cell_type": "code",
   "execution_count": 20,
   "metadata": {},
   "outputs": [],
   "source": [
    "labels = ['temp(t)', 'Δlngdp(t)', 'ΔlnCO2(t)', 'ΔlnEn(t)', 'ΔlnTr(t)', 'ΔlnMC(t)', 'ΔlnFA(t)', 'temp(t-1)', 'Δlngdp(t-1)', 'ΔlnCO2(t-1)', 'ΔlnEn(t-1)', 'ΔlnTr(t-1)', 'ΔlnMC(t-1)', 'ΔlnFA(t-1)']"
   ]
  },
  {
   "cell_type": "markdown",
   "metadata": {},
   "source": [
    "Since `BootstrapResult` object is returned, we can get the ranking of the causal directions extracted by `get_causal_direction_counts()` method. In the following sample code, `n_directions` option is limited to the causal directions of the top 8 rankings, and `min_causal_effect` option is limited to causal directions with a coefficient of 0.3 or more."
   ]
  },
  {
   "cell_type": "code",
   "execution_count": 257,
   "metadata": {},
   "outputs": [],
   "source": [
    "cdc = result.get_causal_direction_counts(n_directions=50, min_causal_effect=1, split_by_causal_effect_sign=True)"
   ]
  },
  {
   "cell_type": "markdown",
   "metadata": {},
   "source": [
    "We can check the result by utility function."
   ]
  },
  {
   "cell_type": "code",
   "execution_count": 258,
   "metadata": {},
   "outputs": [
    {
     "name": "stdout",
     "output_type": "stream",
     "text": [
      "temp(t) <--- ΔlnFA(t-1) (b>0) (100.0%)\n",
      "ΔlnTr(t) <--- ΔlnEn(t-1) (b>0) (99.0%)\n",
      "ΔlnEn(t) <--- ΔlnFA(t-1) (b<0) (98.0%)\n",
      "temp(t) <--- Δlngdp(t-1) (b>0) (98.0%)\n",
      "Δlngdp(t) <--- ΔlnEn(t-1) (b>0) (98.0%)\n",
      "ΔlnTr(t) <--- ΔlnCO2(t-1) (b<0) (97.0%)\n",
      "ΔlnTr(t) <--- ΔlnFA(t-1) (b<0) (96.0%)\n",
      "Δlngdp(t) <--- ΔlnTr(t-1) (b<0) (95.0%)\n",
      "temp(t) <--- ΔlnTr(t-1) (b>0) (91.0%)\n",
      "ΔlnMC(t) <--- ΔlnFA(t-1) (b>0) (89.0%)\n",
      "temp(t) <--- ΔlnEn(t-1) (b<0) (84.0%)\n",
      "temp(t) <--- ΔlnCO2(t-1) (b>0) (81.0%)\n",
      "Δlngdp(t) <--- ΔlnCO2(t-1) (b<0) (61.0%)\n",
      "Δlngdp(t) <--- ΔlnFA(t-1) (b<0) (52.0%)\n",
      "ΔlnCO2(t) <--- ΔlnFA(t-1) (b>0) (50.0%)\n",
      "Δlngdp(t) <--- ΔlnFA(t-1) (b>0) (48.0%)\n",
      "Δlngdp(t) <--- ΔlnCO2(t) (b>0) (34.0%)\n",
      "Δlngdp(t) <--- ΔlnFA(t) (b>0) (34.0%)\n",
      "temp(t) <--- Δlngdp(t) (b>0) (33.0%)\n",
      "ΔlnEn(t) <--- ΔlnEn(t-1) (b>0) (32.0%)\n",
      "ΔlnMC(t) <--- ΔlnEn(t-1) (b>0) (24.0%)\n",
      "temp(t) <--- ΔlnMC(t) (b>0) (23.0%)\n",
      "Δlngdp(t) <--- ΔlnEn(t) (b>0) (19.0%)\n",
      "temp(t) <--- ΔlnTr(t) (b<0) (19.0%)\n",
      "temp(t) <--- ΔlnCO2(t-1) (b<0) (18.0%)\n",
      "temp(t) <--- ΔlnMC(t-1) (b<0) (17.0%)\n",
      "ΔlnMC(t) <--- ΔlnCO2(t-1) (b<0) (16.0%)\n",
      "ΔlnCO2(t) <--- ΔlnEn(t) (b>0) (16.0%)\n",
      "temp(t) <--- ΔlnMC(t-1) (b>0) (14.0%)\n",
      "temp(t) <--- ΔlnEn(t-1) (b>0) (12.0%)\n",
      "ΔlnTr(t) <--- ΔlnFA(t) (b>0) (11.0%)\n",
      "ΔlnEn(t) <--- ΔlnFA(t) (b>0) (10.0%)\n",
      "ΔlnMC(t) <--- ΔlnFA(t) (b>0) (9.0%)\n",
      "ΔlnMC(t) <--- ΔlnFA(t-1) (b<0) (9.0%)\n",
      "temp(t) <--- ΔlnFA(t) (b<0) (9.0%)\n",
      "ΔlnCO2(t) <--- ΔlnFA(t-1) (b<0) (5.0%)\n",
      "Δlngdp(t) <--- ΔlnMC(t) (b<0) (3.0%)\n",
      "ΔlnCO2(t) <--- ΔlnFA(t) (b<0) (3.0%)\n",
      "temp(t) <--- ΔlnCO2(t) (b>0) (3.0%)\n",
      "ΔlnMC(t) <--- ΔlnEn(t) (b>0) (3.0%)\n",
      "ΔlnEn(t) <--- ΔlnFA(t-1) (b>0) (2.0%)\n",
      "ΔlnTr(t) <--- ΔlnFA(t-1) (b>0) (2.0%)\n",
      "ΔlnMC(t) <--- ΔlnCO2(t) (b<0) (2.0%)\n",
      "ΔlnEn(t) <--- ΔlnFA(t) (b<0) (2.0%)\n",
      "temp(t) <--- ΔlnTr(t-1) (b<0) (1.0%)\n",
      "ΔlnMC(t) <--- ΔlnEn(t-1) (b<0) (1.0%)\n",
      "ΔlnCO2(t) <--- ΔlnFA(t) (b>0) (1.0%)\n",
      "ΔlnMC(t) <--- ΔlnFA(t) (b<0) (1.0%)\n",
      "Δlngdp(t) <--- ΔlnMC(t) (b>0) (1.0%)\n",
      "Δlngdp(t) <--- ΔlnTr(t) (b<0) (1.0%)\n"
     ]
    }
   ],
   "source": [
    "print_causal_directions(cdc, 100, labels=labels)"
   ]
  },
  {
   "cell_type": "markdown",
   "metadata": {},
   "source": [
    "Also, using the `get_directed_acyclic_graph_counts()` method, we can get the ranking of the DAGs extracted. In the following sample code, `n_dags` option is limited to the dags of the top 3 rankings, and `min_causal_effect` option is limited to causal directions with a coefficient of 0.2 or more."
   ]
  },
  {
   "cell_type": "code",
   "execution_count": 192,
   "metadata": {},
   "outputs": [],
   "source": [
    "dagc = result.get_directed_acyclic_graph_counts(n_dags=3, min_causal_effect=0.3, split_by_causal_effect_sign=True)"
   ]
  },
  {
   "cell_type": "markdown",
   "metadata": {},
   "source": [
    "We can check the result by utility function."
   ]
  },
  {
   "cell_type": "code",
   "execution_count": 193,
   "metadata": {},
   "outputs": [
    {
     "name": "stdout",
     "output_type": "stream",
     "text": [
      "DAG[0]: 5.0%\n",
      "\ttemp(t) <--- Δlngdp(t-1) (b>0)\n",
      "\ttemp(t) <--- ΔlnCO2(t-1) (b>0)\n",
      "\ttemp(t) <--- ΔlnEn(t-1) (b<0)\n",
      "\ttemp(t) <--- ΔlnTr(t-1) (b>0)\n",
      "\ttemp(t) <--- ΔlnFA(t-1) (b>0)\n",
      "\tΔlngdp(t) <--- ΔlnCO2(t) (b>0)\n",
      "\tΔlngdp(t) <--- ΔlnCO2(t-1) (b<0)\n",
      "\tΔlngdp(t) <--- ΔlnEn(t-1) (b>0)\n",
      "\tΔlngdp(t) <--- ΔlnTr(t-1) (b<0)\n",
      "\tΔlngdp(t) <--- ΔlnMC(t-1) (b<0)\n",
      "\tΔlngdp(t) <--- ΔlnFA(t-1) (b<0)\n",
      "\tΔlnCO2(t) <--- ΔlnEn(t-1) (b>0)\n",
      "\tΔlnCO2(t) <--- ΔlnFA(t-1) (b<0)\n",
      "\tΔlnEn(t) <--- ΔlnCO2(t) (b>0)\n",
      "\tΔlnEn(t) <--- ΔlnCO2(t-1) (b<0)\n",
      "\tΔlnEn(t) <--- ΔlnEn(t-1) (b>0)\n",
      "\tΔlnEn(t) <--- ΔlnFA(t-1) (b<0)\n",
      "\tΔlnTr(t) <--- ΔlnCO2(t-1) (b<0)\n",
      "\tΔlnTr(t) <--- ΔlnEn(t-1) (b>0)\n",
      "\tΔlnTr(t) <--- ΔlnMC(t-1) (b<0)\n",
      "\tΔlnTr(t) <--- ΔlnFA(t-1) (b<0)\n",
      "\tΔlnMC(t) <--- ΔlnCO2(t-1) (b<0)\n",
      "\tΔlnMC(t) <--- ΔlnEn(t-1) (b>0)\n",
      "\tΔlnMC(t) <--- ΔlnMC(t-1) (b<0)\n",
      "\tΔlnMC(t) <--- ΔlnFA(t-1) (b>0)\n",
      "\tΔlnFA(t) <--- ΔlnFA(t-1) (b>0)\n",
      "DAG[1]: 2.0%\n",
      "\ttemp(t) <--- Δlngdp(t-1) (b>0)\n",
      "\ttemp(t) <--- ΔlnCO2(t-1) (b>0)\n",
      "\ttemp(t) <--- ΔlnEn(t-1) (b<0)\n",
      "\ttemp(t) <--- ΔlnTr(t-1) (b>0)\n",
      "\ttemp(t) <--- ΔlnFA(t-1) (b>0)\n",
      "\tΔlngdp(t) <--- ΔlnCO2(t-1) (b<0)\n",
      "\tΔlngdp(t) <--- ΔlnEn(t-1) (b>0)\n",
      "\tΔlngdp(t) <--- ΔlnTr(t-1) (b<0)\n",
      "\tΔlngdp(t) <--- ΔlnFA(t-1) (b>0)\n",
      "\tΔlnCO2(t) <--- ΔlnEn(t-1) (b>0)\n",
      "\tΔlnCO2(t) <--- ΔlnFA(t-1) (b<0)\n",
      "\tΔlnEn(t) <--- ΔlnCO2(t) (b>0)\n",
      "\tΔlnEn(t) <--- ΔlnCO2(t-1) (b<0)\n",
      "\tΔlnEn(t) <--- ΔlnEn(t-1) (b>0)\n",
      "\tΔlnEn(t) <--- ΔlnFA(t-1) (b<0)\n",
      "\tΔlnTr(t) <--- ΔlnCO2(t-1) (b<0)\n",
      "\tΔlnTr(t) <--- ΔlnEn(t-1) (b>0)\n",
      "\tΔlnTr(t) <--- ΔlnMC(t-1) (b<0)\n",
      "\tΔlnTr(t) <--- ΔlnFA(t-1) (b<0)\n",
      "\tΔlnMC(t) <--- ΔlnCO2(t-1) (b<0)\n",
      "\tΔlnMC(t) <--- ΔlnEn(t-1) (b>0)\n",
      "\tΔlnMC(t) <--- ΔlnMC(t-1) (b<0)\n",
      "\tΔlnMC(t) <--- ΔlnFA(t-1) (b>0)\n",
      "\tΔlnFA(t) <--- ΔlnFA(t-1) (b>0)\n",
      "DAG[2]: 2.0%\n",
      "\ttemp(t) <--- Δlngdp(t-1) (b>0)\n",
      "\ttemp(t) <--- ΔlnCO2(t-1) (b>0)\n",
      "\ttemp(t) <--- ΔlnEn(t-1) (b<0)\n",
      "\ttemp(t) <--- ΔlnTr(t-1) (b>0)\n",
      "\ttemp(t) <--- ΔlnFA(t-1) (b>0)\n",
      "\tΔlngdp(t) <--- ΔlnCO2(t) (b>0)\n",
      "\tΔlngdp(t) <--- ΔlnFA(t) (b>0)\n",
      "\tΔlngdp(t) <--- ΔlnCO2(t-1) (b<0)\n",
      "\tΔlngdp(t) <--- ΔlnEn(t-1) (b>0)\n",
      "\tΔlngdp(t) <--- ΔlnTr(t-1) (b<0)\n",
      "\tΔlngdp(t) <--- ΔlnFA(t-1) (b<0)\n",
      "\tΔlnCO2(t) <--- ΔlnEn(t-1) (b>0)\n",
      "\tΔlnCO2(t) <--- ΔlnFA(t-1) (b<0)\n",
      "\tΔlnEn(t) <--- ΔlnCO2(t) (b>0)\n",
      "\tΔlnEn(t) <--- ΔlnCO2(t-1) (b<0)\n",
      "\tΔlnEn(t) <--- ΔlnEn(t-1) (b>0)\n",
      "\tΔlnEn(t) <--- ΔlnFA(t-1) (b<0)\n",
      "\tΔlnTr(t) <--- ΔlnCO2(t-1) (b<0)\n",
      "\tΔlnTr(t) <--- ΔlnEn(t-1) (b>0)\n",
      "\tΔlnTr(t) <--- ΔlnMC(t-1) (b<0)\n",
      "\tΔlnTr(t) <--- ΔlnFA(t-1) (b<0)\n",
      "\tΔlnMC(t) <--- ΔlnCO2(t-1) (b<0)\n",
      "\tΔlnMC(t) <--- ΔlnEn(t-1) (b>0)\n",
      "\tΔlnMC(t) <--- ΔlnMC(t-1) (b<0)\n",
      "\tΔlnMC(t) <--- ΔlnFA(t-1) (b>0)\n",
      "\tΔlnFA(t) <--- ΔlnFA(t-1) (b>0)\n"
     ]
    }
   ],
   "source": [
    "print_dagc(dagc, 100, labels=labels)"
   ]
  },
  {
   "cell_type": "markdown",
   "metadata": {},
   "source": [
    "Using the `get_probabilities()` method, we can get the probability of bootstrapping."
   ]
  },
  {
   "cell_type": "code",
   "execution_count": 162,
   "metadata": {},
   "outputs": [
    {
     "name": "stdout",
     "output_type": "stream",
     "text": [
      "Probability of B0:\n",
      " [[0.   0.47 0.06 0.05 0.09 0.35 0.18 0.21]\n",
      " [0.3  0.   0.38 0.23 0.02 0.01 0.28 0.22]\n",
      " [0.   0.06 0.   0.56 0.01 0.04 0.01 0.  ]\n",
      " [0.   0.01 0.44 0.   0.01 0.04 0.05 0.02]\n",
      " [0.   0.   0.02 0.05 0.   0.12 0.12 0.06]\n",
      " [0.04 0.05 0.08 0.05 0.12 0.   0.05 0.05]\n",
      " [0.   0.   0.   0.   0.   0.   0.   0.  ]\n",
      " [0.06 0.18 0.01 0.01 0.07 0.03 0.02 0.  ]]\n",
      "Probability of B1:\n",
      " [[0.87 1.   0.99 1.   0.99 0.63 1.   0.89]\n",
      " [0.04 0.75 0.99 1.   1.   0.89 1.   0.94]\n",
      " [0.   0.   0.96 0.83 0.66 0.97 0.99 0.  ]\n",
      " [0.   0.   1.   1.   0.61 0.02 1.   0.  ]\n",
      " [0.   0.   1.   1.   0.78 1.   1.   0.  ]\n",
      " [0.   0.27 1.   0.99 0.77 1.   1.   0.02]\n",
      " [0.   0.   0.   0.   0.   0.   1.   0.  ]\n",
      " [0.   0.32 0.99 0.98 0.9  0.98 1.   1.  ]]\n"
     ]
    }
   ],
   "source": [
    "prob = result.get_probabilities(min_causal_effect=0.1)\n",
    "print('Probability of B0:\\n', prob[0])\n",
    "print('Probability of B1:\\n', prob[1])"
   ]
  },
  {
   "cell_type": "code",
   "execution_count": null,
   "metadata": {},
   "outputs": [],
   "source": []
  }
 ],
 "metadata": {
  "kernelspec": {
   "display_name": "Python 3",
   "language": "python",
   "name": "python3"
  },
  "language_info": {
   "codemirror_mode": {
    "name": "ipython",
    "version": 3
   },
   "file_extension": ".py",
   "mimetype": "text/x-python",
   "name": "python",
   "nbconvert_exporter": "python",
   "pygments_lexer": "ipython3",
   "version": "3.7.4"
  }
 },
 "nbformat": 4,
 "nbformat_minor": 4
}
