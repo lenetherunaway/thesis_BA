{
 "cells": [
  {
   "cell_type": "code",
   "execution_count": 1,
   "metadata": {},
   "outputs": [],
   "source": [
    "import pandas as pd\n",
    "import numpy as np"
   ]
  },
  {
   "cell_type": "code",
   "execution_count": 2,
   "metadata": {},
   "outputs": [],
   "source": [
    "df = pd.read_excel('/Users/elena/Documents/Диплом/Data/Maximum_Data_extract_20200229.xlsx')"
   ]
  },
  {
   "cell_type": "code",
   "execution_count": 3,
   "metadata": {},
   "outputs": [],
   "source": [
    "df = df.replace('..', np.nan)"
   ]
  },
  {
   "cell_type": "code",
   "execution_count": 4,
   "metadata": {},
   "outputs": [],
   "source": [
    "#List of variables for the research\n",
    "series = ['Agricultural methane emissions (% of total)',\n",
    "'Agricultural nitrous oxide emissions (% of total)',\n",
    "'Air transport, freight (million ton-km)',\n",
    "'Air transport, passengers carried',\n",
    "'Air transport, registered carrier departures worldwide',\n",
    "'Alternative and nuclear energy (% of total energy use)',\n",
    "'Cereal yield (kg per hectare)',\n",
    "'CO2 emissions (metric tons per capita)',\n",
    "'CO2 emissions from electricity and heat production, total (% of total fuel combustion)',\n",
    "'CO2 emissions from gaseous fuel consumption (% of total)',\n",
    "'CO2 emissions from liquid fuel consumption (% of total)',\n",
    "'CO2 emissions from manufacturing industries and construction (% of total fuel combustion)',\n",
    "'CO2 emissions from other sectors, excluding residential buildings and commercial and public services (% of total fuel combustion)',\n",
    "'CO2 emissions from residential buildings and commercial and public services (% of total fuel combustion)',\n",
    "'CO2 emissions from solid fuel consumption (% of total)',\n",
    "'CO2 emissions from transport (% of total fuel combustion)',\n",
    "'CO2 intensity (kg per kg of oil equivalent energy use)',\n",
    "'Electric power consumption (kWh per capita)',\n",
    "'Electricity production from hydroelectric sources (% of total)',\n",
    "'Electricity production from nuclear sources (% of total)',\n",
    "'Electricity production from oil, gas and coal sources (% of total)',\n",
    "'Electricity production from renewable sources, excluding hydroelectric (% of total)',\n",
    "'Energy related methane emissions (% of total)',\n",
    "'Energy use (kg of oil equivalent per capita)',\n",
    "'Forest area (% of land area)',\n",
    "'GDP per capita growth (annual %)',\n",
    "'Land under cereal production (hectares)',\n",
    "'Population growth (annual %)',\n",
    "'Trade (% of GDP)']"
   ]
  },
  {
   "cell_type": "code",
   "execution_count": 8,
   "metadata": {},
   "outputs": [],
   "source": [
    "df_v = df[df['Series Name'].isin(series)]"
   ]
  },
  {
   "cell_type": "code",
   "execution_count": 33,
   "metadata": {},
   "outputs": [],
   "source": [
    "#List of countries for the reserch\n",
    "countries = ['Australia',\n",
    "'Austria',\n",
    "'Belgium',\n",
    "'Bulgaria',\n",
    "'Canada',\n",
    "'Croatia',\n",
    "'Czech Republic',\n",
    "'Denmark',\n",
    "'Estonia',\n",
    "'Euro area',\n",
    "'European Union',\n",
    "'Finland',\n",
    "'France',\n",
    "'Germany',\n",
    "'Greece',\n",
    "'Hungary',\n",
    "'Iceland',\n",
    "'Ireland',\n",
    "'Italy',\n",
    "'Japan',\n",
    "'Latvia',\n",
    "'Liechtenstein',\n",
    "'Lithuania',\n",
    "'Luxembourg',\n",
    "'Monaco',\n",
    "'Netherlands',\n",
    "'New Zealand',\n",
    "'Norway',\n",
    "'Poland',\n",
    "'Portugal',\n",
    "'Romania',\n",
    "'Russian Federation',\n",
    "'Slovak Republic',\n",
    "'Slovenia',\n",
    "'Spain',\n",
    "'Sweden',\n",
    "'Switzerland',\n",
    "'Ukraine',\n",
    "'United Kingdom',\n",
    "'United States']"
   ]
  },
  {
   "cell_type": "code",
   "execution_count": 34,
   "metadata": {},
   "outputs": [
    {
     "name": "stderr",
     "output_type": "stream",
     "text": [
      "/anaconda3/lib/python3.7/site-packages/ipykernel_launcher.py:1: UserWarning: Boolean Series key will be reindexed to match DataFrame index.\n",
      "  \"\"\"Entry point for launching an IPython kernel.\n"
     ]
    }
   ],
   "source": [
    "df_vc = df_v[df['Country Name'].isin(countries)]"
   ]
  },
  {
   "cell_type": "code",
   "execution_count": 36,
   "metadata": {},
   "outputs": [],
   "source": [
    "#Export the dataframe of variables for the chosen countries\n",
    "df_vc.to_excel('Data_total.xlsx')"
   ]
  },
  {
   "cell_type": "code",
   "execution_count": 37,
   "metadata": {},
   "outputs": [
    {
     "name": "stderr",
     "output_type": "stream",
     "text": [
      "/anaconda3/lib/python3.7/site-packages/ipykernel_launcher.py:2: UserWarning: Boolean Series key will be reindexed to match DataFrame index.\n",
      "  \n"
     ]
    }
   ],
   "source": [
    "#Create a file for each variable\n",
    "for item in series:\n",
    "    df_vc[df['Series Name'] == item].to_excel('{}.xlsx'.format(item))"
   ]
  }
 ],
 "metadata": {
  "kernelspec": {
   "display_name": "Python 3",
   "language": "python",
   "name": "python3"
  },
  "language_info": {
   "codemirror_mode": {
    "name": "ipython",
    "version": 3
   },
   "file_extension": ".py",
   "mimetype": "text/x-python",
   "name": "python",
   "nbconvert_exporter": "python",
   "pygments_lexer": "ipython3",
   "version": "3.7.4"
  }
 },
 "nbformat": 4,
 "nbformat_minor": 2
}