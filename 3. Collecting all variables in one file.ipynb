{
 "cells": [
  {
   "cell_type": "code",
   "execution_count": 6,
   "metadata": {},
   "outputs": [],
   "source": [
    "import pandas as pd\n",
    "import numpy as np"
   ]
  },
  {
   "cell_type": "code",
   "execution_count": 7,
   "metadata": {},
   "outputs": [],
   "source": [
    "import seaborn as sns\n",
    "import matplotlib.pyplot as plt\n",
    "%matplotlib inline"
   ]
  },
  {
   "cell_type": "code",
   "execution_count": 8,
   "metadata": {},
   "outputs": [],
   "source": [
    "df = pd.read_excel('/Users/elena/Documents/Диплом/Data/Data_total.xlsx')"
   ]
  },
  {
   "cell_type": "code",
   "execution_count": 9,
   "metadata": {},
   "outputs": [],
   "source": [
    "df_t = pd.read_excel('/Users/elena/Documents/Диплом/Data/av_temperature.xlsx')\n",
    "df_t.index = list(range(1960, 2017))#year range"
   ]
  },
  {
   "cell_type": "code",
   "execution_count": 13,
   "metadata": {},
   "outputs": [],
   "source": [
    "df_t = df_t.T"
   ]
  },
  {
   "cell_type": "code",
   "execution_count": 14,
   "metadata": {},
   "outputs": [],
   "source": [
    "df_t['Series Name'] = 'Average annual temperature, C'\n",
    "df_t['Series Code'] = 'av.an.temp'\n",
    "#Now we have a dataframe of av.temp. for each country (row) by year(column)"
   ]
  },
  {
   "cell_type": "code",
   "execution_count": 17,
   "metadata": {},
   "outputs": [
    {
     "name": "stderr",
     "output_type": "stream",
     "text": [
      "/anaconda3/lib/python3.7/site-packages/ipykernel_launcher.py:2: UserWarning: DataFrame columns are not unique, some columns will be omitted.\n",
      "  \n"
     ]
    }
   ],
   "source": [
    "country_id = df[['Country Name', 'Country Code']]\n",
    "country_dict = country_id.set_index('Country Code').T.to_dict('list')"
   ]
  },
  {
   "cell_type": "code",
   "execution_count": 19,
   "metadata": {},
   "outputs": [
    {
     "data": {
      "text/plain": [
       "{'AUS': ['Australia'],\n",
       " 'FRA': ['France'],\n",
       " 'DEU': ['Germany'],\n",
       " 'ITA': ['Italy'],\n",
       " 'JPN': ['Japan'],\n",
       " 'NLD': ['Netherlands'],\n",
       " 'RUS': ['Russian Federation'],\n",
       " 'ESP': ['Spain'],\n",
       " 'CHE': ['Switzerland'],\n",
       " 'GBR': ['United Kingdom'],\n",
       " 'USA': ['United States'],\n",
       " 'AUT': ['Austria'],\n",
       " 'BEL': ['Belgium'],\n",
       " 'BGR': ['Bulgaria'],\n",
       " 'CAN': ['Canada'],\n",
       " 'HRV': ['Croatia'],\n",
       " 'CZE': ['Czech Republic'],\n",
       " 'DNK': ['Denmark'],\n",
       " 'EST': ['Estonia'],\n",
       " 'FIN': ['Finland'],\n",
       " 'GRC': ['Greece'],\n",
       " 'HUN': ['Hungary'],\n",
       " 'ISL': ['Iceland'],\n",
       " 'IRL': ['Ireland'],\n",
       " 'LVA': ['Latvia'],\n",
       " 'LIE': ['Liechtenstein'],\n",
       " 'LTU': ['Lithuania'],\n",
       " 'LUX': ['Luxembourg'],\n",
       " 'MCO': ['Monaco'],\n",
       " 'NZL': ['New Zealand'],\n",
       " 'NOR': ['Norway'],\n",
       " 'POL': ['Poland'],\n",
       " 'PRT': ['Portugal'],\n",
       " 'ROU': ['Romania'],\n",
       " 'SVK': ['Slovak Republic'],\n",
       " 'SVN': ['Slovenia'],\n",
       " 'SWE': ['Sweden'],\n",
       " 'UKR': ['Ukraine'],\n",
       " 'EMU': ['Euro area'],\n",
       " 'EUU': ['European Union']}"
      ]
     },
     "execution_count": 19,
     "metadata": {},
     "output_type": "execute_result"
    }
   ],
   "source": [
    "country_dict"
   ]
  },
  {
   "cell_type": "code",
   "execution_count": null,
   "metadata": {},
   "outputs": [],
   "source": []
  }
 ],
 "metadata": {
  "kernelspec": {
   "display_name": "Python 3",
   "language": "python",
   "name": "python3"
  },
  "language_info": {
   "codemirror_mode": {
    "name": "ipython",
    "version": 3
   },
   "file_extension": ".py",
   "mimetype": "text/x-python",
   "name": "python",
   "nbconvert_exporter": "python",
   "pygments_lexer": "ipython3",
   "version": "3.7.4"
  }
 },
 "nbformat": 4,
 "nbformat_minor": 2
}