{
 "cells": [
  {
   "cell_type": "code",
   "execution_count": 12,
   "metadata": {},
   "outputs": [],
   "source": [
    "import pandas as pd \n",
    "import numpy as np\n",
    "import matplotlib.pyplot as plt\n",
    "import seaborn as sns"
   ]
  },
  {
   "cell_type": "code",
   "execution_count": 22,
   "metadata": {},
   "outputs": [],
   "source": [
    "df = pd.read_excel('/Users/elena/Documents/Диплом/Data/Глава 1/описательные статистики.xlsx', sheet_name='Data mod')"
   ]
  },
  {
   "cell_type": "code",
   "execution_count": 23,
   "metadata": {},
   "outputs": [],
   "source": [
    "df = df.drop(['Series Code', 'Среднее за период', 'Мин за период', 'Максимум за период'], axis=1)#remove redundant columns"
   ]
  },
  {
   "cell_type": "code",
   "execution_count": 24,
   "metadata": {},
   "outputs": [],
   "source": [
    "#create a dataframe for each cluster\n",
    "df_0 = df[df['Cluster'] == 1].drop('Cluster', axis=1)\n",
    "df_1 = df[df['Cluster'] == 2].drop('Cluster', axis=1)\n",
    "df_2 = df[df['Cluster'] == 3].drop('Cluster', axis=1)"
   ]
  },
  {
   "cell_type": "code",
   "execution_count": 25,
   "metadata": {},
   "outputs": [],
   "source": [
    "#group country names by cluster\n",
    "countries_0 = list(sorted(set(df_0['Country Code'])))\n",
    "countries_1 = list(sorted(set(df_1['Country Code'])))\n",
    "countries_2 = list(sorted(set(df_2['Country Code'])))"
   ]
  },
  {
   "cell_type": "code",
   "execution_count": 27,
   "metadata": {},
   "outputs": [
    {
     "output_type": "execute_result",
     "data": {
      "text/plain": "                                            Series Name   Country Name  \\\n1120  Темп роста реального ВВП на душу населения в д...          China   \n1193  Темп роста реального ВВП на душу населения в д...  United States   \n1212           Темп роста реального ВВП в млн долл. США          China   \n1285           Темп роста реального ВВП в млн долл. США  United States   \n\n     Country Code  1992      1993      1994      1995      1996      1997  \\\n1120        Китай   NaN  0.005989  0.228419  0.261131  0.142705  0.083278   \n1193          США   NaN  0.014068  0.027609  0.014688  0.025722  0.031973   \n1212        Китай   NaN  0.017621  0.242382  0.274908  0.154745  0.094422   \n1285          США   NaN  0.027528  0.040288  0.026843  0.037725  0.044472   \n\n          1998  ...      2005      2006      2007      2008      2009  \\\n1120  0.048116  ...  0.127120  0.162055  0.249742  0.262868  0.096571   \n1193  0.032705  ...  0.025635  0.018680  0.009119 -0.010767 -0.033874   \n1212  0.058221  ...  0.133768  0.168562  0.256286  0.269355  0.102039   \n1285  0.044814  ...  0.035132  0.028550  0.018762 -0.001366 -0.025368   \n\n          2010      2011      2012      2013      2014  \n1120  0.173738  0.209369  0.103222  0.096903  0.065051  \n1193  0.017167  0.008162  0.015022  0.011385  0.017026  \n1212  0.179420  0.215177  0.108611  0.102332  0.070457  \n1285  0.025638  0.015508  0.022495  0.018421  0.024520  \n\n[4 rows x 26 columns]",
      "text/html": "<div>\n<style scoped>\n    .dataframe tbody tr th:only-of-type {\n        vertical-align: middle;\n    }\n\n    .dataframe tbody tr th {\n        vertical-align: top;\n    }\n\n    .dataframe thead th {\n        text-align: right;\n    }\n</style>\n<table border=\"1\" class=\"dataframe\">\n  <thead>\n    <tr style=\"text-align: right;\">\n      <th></th>\n      <th>Series Name</th>\n      <th>Country Name</th>\n      <th>Country Code</th>\n      <th>1992</th>\n      <th>1993</th>\n      <th>1994</th>\n      <th>1995</th>\n      <th>1996</th>\n      <th>1997</th>\n      <th>1998</th>\n      <th>...</th>\n      <th>2005</th>\n      <th>2006</th>\n      <th>2007</th>\n      <th>2008</th>\n      <th>2009</th>\n      <th>2010</th>\n      <th>2011</th>\n      <th>2012</th>\n      <th>2013</th>\n      <th>2014</th>\n    </tr>\n  </thead>\n  <tbody>\n    <tr>\n      <th>1120</th>\n      <td>Темп роста реального ВВП на душу населения в д...</td>\n      <td>China</td>\n      <td>Китай</td>\n      <td>NaN</td>\n      <td>0.005989</td>\n      <td>0.228419</td>\n      <td>0.261131</td>\n      <td>0.142705</td>\n      <td>0.083278</td>\n      <td>0.048116</td>\n      <td>...</td>\n      <td>0.127120</td>\n      <td>0.162055</td>\n      <td>0.249742</td>\n      <td>0.262868</td>\n      <td>0.096571</td>\n      <td>0.173738</td>\n      <td>0.209369</td>\n      <td>0.103222</td>\n      <td>0.096903</td>\n      <td>0.065051</td>\n    </tr>\n    <tr>\n      <th>1193</th>\n      <td>Темп роста реального ВВП на душу населения в д...</td>\n      <td>United States</td>\n      <td>США</td>\n      <td>NaN</td>\n      <td>0.014068</td>\n      <td>0.027609</td>\n      <td>0.014688</td>\n      <td>0.025722</td>\n      <td>0.031973</td>\n      <td>0.032705</td>\n      <td>...</td>\n      <td>0.025635</td>\n      <td>0.018680</td>\n      <td>0.009119</td>\n      <td>-0.010767</td>\n      <td>-0.033874</td>\n      <td>0.017167</td>\n      <td>0.008162</td>\n      <td>0.015022</td>\n      <td>0.011385</td>\n      <td>0.017026</td>\n    </tr>\n    <tr>\n      <th>1212</th>\n      <td>Темп роста реального ВВП в млн долл. США</td>\n      <td>China</td>\n      <td>Китай</td>\n      <td>NaN</td>\n      <td>0.017621</td>\n      <td>0.242382</td>\n      <td>0.274908</td>\n      <td>0.154745</td>\n      <td>0.094422</td>\n      <td>0.058221</td>\n      <td>...</td>\n      <td>0.133768</td>\n      <td>0.168562</td>\n      <td>0.256286</td>\n      <td>0.269355</td>\n      <td>0.102039</td>\n      <td>0.179420</td>\n      <td>0.215177</td>\n      <td>0.108611</td>\n      <td>0.102332</td>\n      <td>0.070457</td>\n    </tr>\n    <tr>\n      <th>1285</th>\n      <td>Темп роста реального ВВП в млн долл. США</td>\n      <td>United States</td>\n      <td>США</td>\n      <td>NaN</td>\n      <td>0.027528</td>\n      <td>0.040288</td>\n      <td>0.026843</td>\n      <td>0.037725</td>\n      <td>0.044472</td>\n      <td>0.044814</td>\n      <td>...</td>\n      <td>0.035132</td>\n      <td>0.028550</td>\n      <td>0.018762</td>\n      <td>-0.001366</td>\n      <td>-0.025368</td>\n      <td>0.025638</td>\n      <td>0.015508</td>\n      <td>0.022495</td>\n      <td>0.018421</td>\n      <td>0.024520</td>\n    </tr>\n  </tbody>\n</table>\n<p>4 rows × 26 columns</p>\n</div>"
     },
     "metadata": {},
     "execution_count": 27
    }
   ],
   "source": [
    "df_0[df_0[1992].isna() == True].head()"
   ]
  },
  {
   "cell_type": "code",
   "execution_count": 28,
   "metadata": {},
   "outputs": [],
   "source": [
    "#Read temperature data from the file\n",
    "temp = pd.read_excel('/Users/elena/Documents/Диплом/Data/av_temperature.xlsx')"
   ]
  },
  {
   "cell_type": "code",
   "execution_count": 29,
   "metadata": {},
   "outputs": [],
   "source": [
    "temp = temp.rename(columns={'Unnamed: 0': 't'})"
   ]
  },
  {
   "cell_type": "code",
   "execution_count": 30,
   "metadata": {},
   "outputs": [],
   "source": [
    "temp.index = temp.t\n",
    "temp = temp.drop('t', axis=1)"
   ]
  },
  {
   "cell_type": "code",
   "execution_count": 31,
   "metadata": {},
   "outputs": [],
   "source": [
    "temp = temp.T\n",
    "temp['Series Name'] = 'Average Air temperature, Celsius'"
   ]
  },
  {
   "cell_type": "code",
   "execution_count": 32,
   "metadata": {},
   "outputs": [],
   "source": [
    "temp['Country Code'] = temp.index"
   ]
  },
  {
   "cell_type": "code",
   "execution_count": 33,
   "metadata": {},
   "outputs": [],
   "source": [
    "df = df.append(temp, sort=True)"
   ]
  },
  {
   "cell_type": "code",
   "execution_count": 34,
   "metadata": {},
   "outputs": [],
   "source": [
    "series = list(set(df['Series Name']))"
   ]
  },
  {
   "cell_type": "code",
   "execution_count": 36,
   "metadata": {
    "scrolled": false
   },
   "outputs": [
    {
     "output_type": "execute_result",
     "data": {
      "text/plain": "                                           Series Name Country Name  \\\n16           Объем грузовых авиаперевозок, млн тонн-км        China   \n108         Объем пассажирских авиаперевозок, млн чел.        China   \n200  Выбросы углекислого газа от транспорта, доля о...        China   \n292                  Выбросы углекислого газа, тыс. кт        China   \n384     Выбросы углекислого газа, кт на душу населения        China   \n\n    Country Code  Cluster         1992         1993         1994         1995  \\\n16         Китай      1.0     7.182352     7.344073     7.448450     7.313887   \n108        Китай      1.0     3.308534     3.444017     3.627031     3.862087   \n200        Китай      1.0     1.703182     1.732872     1.618263     1.584510   \n292        Китай      1.0  2690.455898  2878.694009  3058.241330  3320.285150   \n384        Китай      1.0     0.837015     0.893145     0.942346     1.013691   \n\n            1996         1997  ...         2005         2006         2007  \\\n16      7.431655     7.641852  ...     8.933189     8.947963     9.322735   \n108     3.946813     3.956557  ...     4.917947     5.062680     5.212831   \n200     1.882427     1.740248  ...     2.042545     2.029552     2.009171   \n292  3463.089131  3469.510048  ...  5896.957705  6529.291518  7030.797772   \n384     1.045320     1.036938  ...     1.509215     1.605493     1.674272   \n\n            2008         2009         2010         2011          2012  \\\n16      9.340145     9.390696     9.752309     9.727041      9.653021   \n108     5.252280     5.433993     5.584597     5.677302      5.763547   \n200     2.063390     2.020135     2.020718     2.014486      2.091752   \n292  7553.070247  8001.008965  8776.040416  9733.538120  10028.573939   \n384     1.740802     1.793442     1.881070     1.979830      2.004819   \n\n             2013          2014  \n16       9.683697      9.788222  \n108      5.865888      5.968397  \n200      2.126579      2.151610  \n292  10258.007128  10291.926878  \n384      2.022502      2.020740  \n\n[5 rows x 27 columns]",
      "text/html": "<div>\n<style scoped>\n    .dataframe tbody tr th:only-of-type {\n        vertical-align: middle;\n    }\n\n    .dataframe tbody tr th {\n        vertical-align: top;\n    }\n\n    .dataframe thead th {\n        text-align: right;\n    }\n</style>\n<table border=\"1\" class=\"dataframe\">\n  <thead>\n    <tr style=\"text-align: right;\">\n      <th></th>\n      <th>Series Name</th>\n      <th>Country Name</th>\n      <th>Country Code</th>\n      <th>Cluster</th>\n      <th>1992</th>\n      <th>1993</th>\n      <th>1994</th>\n      <th>1995</th>\n      <th>1996</th>\n      <th>1997</th>\n      <th>...</th>\n      <th>2005</th>\n      <th>2006</th>\n      <th>2007</th>\n      <th>2008</th>\n      <th>2009</th>\n      <th>2010</th>\n      <th>2011</th>\n      <th>2012</th>\n      <th>2013</th>\n      <th>2014</th>\n    </tr>\n  </thead>\n  <tbody>\n    <tr>\n      <th>16</th>\n      <td>Объем грузовых авиаперевозок, млн тонн-км</td>\n      <td>China</td>\n      <td>Китай</td>\n      <td>1.0</td>\n      <td>7.182352</td>\n      <td>7.344073</td>\n      <td>7.448450</td>\n      <td>7.313887</td>\n      <td>7.431655</td>\n      <td>7.641852</td>\n      <td>...</td>\n      <td>8.933189</td>\n      <td>8.947963</td>\n      <td>9.322735</td>\n      <td>9.340145</td>\n      <td>9.390696</td>\n      <td>9.752309</td>\n      <td>9.727041</td>\n      <td>9.653021</td>\n      <td>9.683697</td>\n      <td>9.788222</td>\n    </tr>\n    <tr>\n      <th>108</th>\n      <td>Объем пассажирских авиаперевозок, млн чел.</td>\n      <td>China</td>\n      <td>Китай</td>\n      <td>1.0</td>\n      <td>3.308534</td>\n      <td>3.444017</td>\n      <td>3.627031</td>\n      <td>3.862087</td>\n      <td>3.946813</td>\n      <td>3.956557</td>\n      <td>...</td>\n      <td>4.917947</td>\n      <td>5.062680</td>\n      <td>5.212831</td>\n      <td>5.252280</td>\n      <td>5.433993</td>\n      <td>5.584597</td>\n      <td>5.677302</td>\n      <td>5.763547</td>\n      <td>5.865888</td>\n      <td>5.968397</td>\n    </tr>\n    <tr>\n      <th>200</th>\n      <td>Выбросы углекислого газа от транспорта, доля о...</td>\n      <td>China</td>\n      <td>Китай</td>\n      <td>1.0</td>\n      <td>1.703182</td>\n      <td>1.732872</td>\n      <td>1.618263</td>\n      <td>1.584510</td>\n      <td>1.882427</td>\n      <td>1.740248</td>\n      <td>...</td>\n      <td>2.042545</td>\n      <td>2.029552</td>\n      <td>2.009171</td>\n      <td>2.063390</td>\n      <td>2.020135</td>\n      <td>2.020718</td>\n      <td>2.014486</td>\n      <td>2.091752</td>\n      <td>2.126579</td>\n      <td>2.151610</td>\n    </tr>\n    <tr>\n      <th>292</th>\n      <td>Выбросы углекислого газа, тыс. кт</td>\n      <td>China</td>\n      <td>Китай</td>\n      <td>1.0</td>\n      <td>2690.455898</td>\n      <td>2878.694009</td>\n      <td>3058.241330</td>\n      <td>3320.285150</td>\n      <td>3463.089131</td>\n      <td>3469.510048</td>\n      <td>...</td>\n      <td>5896.957705</td>\n      <td>6529.291518</td>\n      <td>7030.797772</td>\n      <td>7553.070247</td>\n      <td>8001.008965</td>\n      <td>8776.040416</td>\n      <td>9733.538120</td>\n      <td>10028.573939</td>\n      <td>10258.007128</td>\n      <td>10291.926878</td>\n    </tr>\n    <tr>\n      <th>384</th>\n      <td>Выбросы углекислого газа, кт на душу населения</td>\n      <td>China</td>\n      <td>Китай</td>\n      <td>1.0</td>\n      <td>0.837015</td>\n      <td>0.893145</td>\n      <td>0.942346</td>\n      <td>1.013691</td>\n      <td>1.045320</td>\n      <td>1.036938</td>\n      <td>...</td>\n      <td>1.509215</td>\n      <td>1.605493</td>\n      <td>1.674272</td>\n      <td>1.740802</td>\n      <td>1.793442</td>\n      <td>1.881070</td>\n      <td>1.979830</td>\n      <td>2.004819</td>\n      <td>2.022502</td>\n      <td>2.020740</td>\n    </tr>\n  </tbody>\n</table>\n<p>5 rows × 27 columns</p>\n</div>"
     },
     "metadata": {},
     "execution_count": 36
    }
   ],
   "source": [
    "df[df['Country Code'] == 'Китай'].head()#Data for China"
   ]
  },
  {
   "cell_type": "markdown",
   "metadata": {},
   "source": [
    "# Cluster of countries with 1-7% share of world CO2 emissions"
   ]
  },
  {
   "cell_type": "code",
   "execution_count": 39,
   "metadata": {},
   "outputs": [
    {
     "output_type": "stream",
     "name": "stdout",
     "text": "Австралия\nБразилия\nВеликобритания\nГермания\nИндия\nИндонезия\nИран\nИспания\nИталия\nКанада\nМексика\nПольша\nРоссийская Федерация\nСаудовская Аравия\nТурция\nУкраина\nФранция\nЮАР\nЮжная Корея\nЯпония\n"
    }
   ],
   "source": [
    "c1_stats = pd.DataFrame([])\n",
    "for country in countries_1:\n",
    "    print(country)#to check the countries in this cluster\n",
    "    df_country = df[df['Country Code'] == country]#dataframe for one country in the cluster\n",
    "    df_country = df_country.drop(['Country Name', 'Country Code', 'Cluster'], axis=1)#remove redundant columns\n",
    "    l = len(df_country)#number of variables for this country\n",
    "    variable = []\n",
    "    means = []\n",
    "    variances = []\n",
    "    mins = []\n",
    "    maxs = []\n",
    "    chng = []\n",
    "    av_chng = []\n",
    "    pct_chng = []\n",
    "    for i in range(0, l):#for each variable\n",
    "        variable.append(df_country.iloc[i,0])\n",
    "        row = df_country.iloc[i, 1:].astype(float).dropna()\n",
    "        if len(row) < 1:#take np.nan as descriptive statistics if there is no observations of the variable\n",
    "            means.append(np.nan)\n",
    "            variances.append(np.nan)\n",
    "            mins.append(np.nan)\n",
    "            maxs.append(np.nan)\n",
    "            chng.append(np.nan)\n",
    "            av_chng.append(np.nan)\n",
    "            pct_chng.append(np.nan)\n",
    "        else:\n",
    "            means.append(row.mean())\n",
    "            variances.append(row.std())\n",
    "            mins.append(row.min())\n",
    "            maxs.append(row.max())\n",
    "            if row.iloc[0] == 0:\n",
    "                chng.append(0)\n",
    "            else:\n",
    "                chng.append((row.iloc[-1]-row.iloc[0])/row.iloc[0]*100)\n",
    "            av_chng.append(row.diff().mean())\n",
    "            pct_chng.append(row.pct_change().mean())\n",
    "    df_ = pd.DataFrame([variable, means, variances, mins, maxs, chng, av_chng, pct_chng]).T\n",
    "    df_.columns = ['Переменная', 'Среднее значение', 'СКО', 'Минимальное значение', 'Максимальное значение', 'Изменение за период, %', 'Среднее изменение за период','Средний темп прироста, %']\n",
    "    df_.to_excel('{}_DS.xlsx'.format(country))#save descriptive statistics for each country\n",
    "    df_['Country Code'] = country\n",
    "    c1_stats = pd.concat([c1_stats, df_])\n",
    "c1_stats.to_excel('Cl_1_7_DS.xlsx')#save cluster stats"
   ]
  },
  {
   "cell_type": "code",
   "execution_count": 40,
   "metadata": {},
   "outputs": [
    {
     "output_type": "execute_result",
     "data": {
      "text/plain": "                                          Переменная Среднее значение  \\\n0          Объем грузовых авиаперевозок, млн тонн-км           7.5881   \n1         Объем пассажирских авиаперевозок, млн чел.          3.70462   \n2  Выбросы углекислого газа от транспорта, доля о...          3.11861   \n3                  Выбросы углекислого газа, тыс. кт          339.252   \n4     Выбросы углекислого газа, кт на душу населения          2.82278   \n\n         СКО Минимальное значение Максимальное значение  \\\n0   0.233765              7.21182               7.98559   \n1   0.333064              3.17332               4.22241   \n2  0.0449411              3.05998                3.2086   \n3    40.4426              267.984               394.793   \n4  0.0527417              2.72901               2.90143   \n\n  Изменение за период, % Среднее изменение за период Средний темп прироста, %  \\\n0                4.80493                   0.0157609               0.00229974   \n1                33.0254                   0.0476364                 0.013154   \n2                1.75177                   0.0025109              0.000814982   \n3                34.8071                     4.23989                0.0140127   \n4               0.169448                 0.000210194              0.000122867   \n\n  Country Code  \n0    Австралия  \n1    Австралия  \n2    Австралия  \n3    Австралия  \n4    Австралия  ",
      "text/html": "<div>\n<style scoped>\n    .dataframe tbody tr th:only-of-type {\n        vertical-align: middle;\n    }\n\n    .dataframe tbody tr th {\n        vertical-align: top;\n    }\n\n    .dataframe thead th {\n        text-align: right;\n    }\n</style>\n<table border=\"1\" class=\"dataframe\">\n  <thead>\n    <tr style=\"text-align: right;\">\n      <th></th>\n      <th>Переменная</th>\n      <th>Среднее значение</th>\n      <th>СКО</th>\n      <th>Минимальное значение</th>\n      <th>Максимальное значение</th>\n      <th>Изменение за период, %</th>\n      <th>Среднее изменение за период</th>\n      <th>Средний темп прироста, %</th>\n      <th>Country Code</th>\n    </tr>\n  </thead>\n  <tbody>\n    <tr>\n      <th>0</th>\n      <td>Объем грузовых авиаперевозок, млн тонн-км</td>\n      <td>7.5881</td>\n      <td>0.233765</td>\n      <td>7.21182</td>\n      <td>7.98559</td>\n      <td>4.80493</td>\n      <td>0.0157609</td>\n      <td>0.00229974</td>\n      <td>Австралия</td>\n    </tr>\n    <tr>\n      <th>1</th>\n      <td>Объем пассажирских авиаперевозок, млн чел.</td>\n      <td>3.70462</td>\n      <td>0.333064</td>\n      <td>3.17332</td>\n      <td>4.22241</td>\n      <td>33.0254</td>\n      <td>0.0476364</td>\n      <td>0.013154</td>\n      <td>Австралия</td>\n    </tr>\n    <tr>\n      <th>2</th>\n      <td>Выбросы углекислого газа от транспорта, доля о...</td>\n      <td>3.11861</td>\n      <td>0.0449411</td>\n      <td>3.05998</td>\n      <td>3.2086</td>\n      <td>1.75177</td>\n      <td>0.0025109</td>\n      <td>0.000814982</td>\n      <td>Австралия</td>\n    </tr>\n    <tr>\n      <th>3</th>\n      <td>Выбросы углекислого газа, тыс. кт</td>\n      <td>339.252</td>\n      <td>40.4426</td>\n      <td>267.984</td>\n      <td>394.793</td>\n      <td>34.8071</td>\n      <td>4.23989</td>\n      <td>0.0140127</td>\n      <td>Австралия</td>\n    </tr>\n    <tr>\n      <th>4</th>\n      <td>Выбросы углекислого газа, кт на душу населения</td>\n      <td>2.82278</td>\n      <td>0.0527417</td>\n      <td>2.72901</td>\n      <td>2.90143</td>\n      <td>0.169448</td>\n      <td>0.000210194</td>\n      <td>0.000122867</td>\n      <td>Австралия</td>\n    </tr>\n  </tbody>\n</table>\n</div>"
     },
     "metadata": {},
     "execution_count": 40
    }
   ],
   "source": [
    "c1_stats.head()"
   ]
  },
  {
   "cell_type": "code",
   "execution_count": 41,
   "metadata": {},
   "outputs": [],
   "source": [
    "agr_stats_1 = ['Среднее значение', 'СКО', 'Минимальное значение', 'Максимальное значение', 'Изменение за период, %', 'Среднее изменение за период','Средний темп прироста, %']\n",
    "agr_stats_1_values = []"
   ]
  },
  {
   "cell_type": "code",
   "execution_count": 42,
   "metadata": {},
   "outputs": [],
   "source": [
    "factors = ['Объем грузовых авиаперевозок, млн тонн-км', 'Объем пассажирских авиаперевозок, млн чел.', 'Выбросы углекислого газа от транспорта, доля от общего объема при сжигании топлива', 'Выбросы углекислого газа, кт на душу населения', 'Выбросы углекислого газа от производства и строительства, доля от общего объема при сжигании топлива', 'Урожайность круп, кг на гектар', 'Площадь лесных массивов, доля суши', 'Потребление электроэнергии (kWh per capita)', 'Реальный ВВП на душу населения, долл. США', 'Темп роста реального ВВП на душу населения в долл. США', 'Среднегодовая температура воздуха']"
   ]
  },
  {
   "cell_type": "code",
   "execution_count": 60,
   "metadata": {
    "scrolled": false
   },
   "outputs": [],
   "source": [
    "stat_1 = pd.DataFrame([])\n",
    "for stat in agr_stats_1:\n",
    "    stat_1_val = []\n",
    "    if stat == 'Минимальное значение':\n",
    "        for item in series:\n",
    "            stat_1_val.append(c1_stats[c1_stats['Переменная']==item][stat].min())\n",
    "            #print(min(c0_stats[c0_stats['Переменная']==item][stat]))\n",
    "    elif stat == 'Максимальное значение':\n",
    "        for item in series:\n",
    "            stat_1_val.append(c1_stats[c1_stats['Переменная']==item][stat].max())\n",
    "    else:\n",
    "        for item in series:\n",
    "            stat_1_val.append(c1_stats[c1_stats['Переменная']==item][stat].mean())\n",
    "    stat_1[stat] = stat_1_val\n",
    "stat_1.index = series\n",
    "stat_1[stat_1.index.isin(factors)].to_excel('AG_cl_1_7.xlsx')"
   ]
  },
  {
   "cell_type": "markdown",
   "metadata": {},
   "source": [
    "# Cluster of leaders on CO2 emissions"
   ]
  },
  {
   "cell_type": "code",
   "execution_count": 68,
   "metadata": {},
   "outputs": [
    {
     "output_type": "stream",
     "name": "stdout",
     "text": "Китай\nСША\n"
    }
   ],
   "source": [
    "c0_stats = pd.DataFrame([])\n",
    "for country in countries_0:\n",
    "    print(country)\n",
    "    df_country = df[df['Country Code'] == country]\n",
    "    df_country = df_country.drop(['Country Name', 'Country Code', 'Cluster'], axis=1)\n",
    "    #print(df_country.columns)\n",
    "    l = len(df_country)\n",
    "    variable = []\n",
    "    means = []\n",
    "    variances = []\n",
    "    mins = []\n",
    "    maxs = []\n",
    "    chng = []\n",
    "    av_chng = []\n",
    "    pct_chng = []\n",
    "    for i in range(0, l):\n",
    "        variable.append(df_country.iloc[i,0])\n",
    "        row = df_country.iloc[i, 1:].astype(float).dropna()\n",
    "        if len(row) < 1:\n",
    "            means.append(np.nan)\n",
    "            variances.append(np.nan)\n",
    "            mins.append(np.nan)\n",
    "            maxs.append(np.nan)\n",
    "            chng.append(np.nan)\n",
    "            av_chng.append(np.nan)\n",
    "            pct_chng.append(np.nan)\n",
    "        else:\n",
    "            means.append(row.mean())\n",
    "            variances.append(row.std())\n",
    "            mins.append(row.min())\n",
    "            maxs.append(row.max())\n",
    "            if row.iloc[0] == 0:\n",
    "                chng.append(0)\n",
    "            else:\n",
    "                chng.append((row.iloc[-1]-row.iloc[0])/row.iloc[0]*100)\n",
    "            av_chng.append(row.diff().mean())\n",
    "            pct_chng.append(row.pct_change().mean())\n",
    "    df_ = pd.DataFrame([variable, means, variances, mins, maxs, chng, av_chng, pct_chng]).T\n",
    "    df_.columns = ['Переменная', 'Среднее значение', 'СКО', 'Минимальное значение', 'Максимальное значение', 'Изменение за период, %', 'Среднее изменение за период','Средний темп прироста, %']\n",
    "    df_.to_excel('{}_DS.xlsx'.format(country))\n",
    "    df_['Country Code'] = country\n",
    "    c0_stats = pd.concat([c0_stats, df_])\n",
    "c0_stats.to_excel('Losers_DS.xlsx')"
   ]
  },
  {
   "cell_type": "code",
   "execution_count": 69,
   "metadata": {},
   "outputs": [],
   "source": [
    "agr_stats_0 = ['Среднее значение', 'СКО', 'Минимальное значение', 'Максимальное значение', 'Изменение за период, %', 'Среднее изменение за период','Средний темп прироста, %']\n",
    "agr_stats_0_values = []\n",
    "stat_0 = pd.DataFrame([])\n",
    "for stat in agr_stats_0:\n",
    "    stat_0_val = []\n",
    "    if stat == 'Минимальное значение':\n",
    "        for item in series:\n",
    "            stat_0_val.append(c0_stats[c0_stats['Переменная']==item][stat].min())\n",
    "            #print(min(c0_stats[c0_stats['Переменная']==item][stat]))\n",
    "    elif stat == 'Максимальное значение':\n",
    "        for item in series:\n",
    "            stat_0_val.append(c0_stats[c0_stats['Переменная']==item][stat].max())\n",
    "    else:\n",
    "        for item in series:\n",
    "            stat_0_val.append(c0_stats[c0_stats['Переменная']==item][stat].mean())\n",
    "    stat_0[stat] = stat_0_val\n",
    "stat_0.index = series\n",
    "stat_0[stat_0.index.isin(factors)].to_excel('AG_Leaders.xlsx')"
   ]
  },
  {
   "cell_type": "markdown",
   "metadata": {},
   "source": [
    "# Cluster of countries with <1% share of world CO2 emissions"
   ]
  },
  {
   "cell_type": "code",
   "execution_count": 70,
   "metadata": {},
   "outputs": [
    {
     "output_type": "stream",
     "name": "stdout",
     "text": "Австрия\nАзербайджан\nАлжир\nАнгола\nАргентина\nБангладеш\nБеларусь\nБельгия\nБолгария\nБоливия\nБруней\nВенесуэла\nГреция\nГрузия\nЕгипет\nЗимбабве\nИзраиль\nИордания\nИрландия\nКазахстан\nКатар\nКения\nКипр\nКолумбия\nКоста-Рика\nКувейт\nКыргызстан\nЛатвия\nЛиван\nЛивия\nЛитва\nМаврикий\nМалайзия\nМальта\nМозамбик\nМолдавия\nМонголия\nМорокко\nМьянма\nНепал\nНигерия\nНидерланды\nНовая Зеландия\nОАЭ\nПакистан\nПанама \nПеру\nПортугалия\nРумыния\nСальвадор\nСенегал\nСловения\nТаджикистан\nТаиланд\nТанзания\nТринидад и Тобаго\nТунис\nТуркменистан\nУзбекистан\nФилиппины\nФинляндия\nХорватия\nЧехия\nЧили\nШвейцария\nШри-Ланка\nЭквадор\nЭстония\nЭфиопия\nЯмайка\n"
    }
   ],
   "source": [
    "c2_stats = pd.DataFrame([])\n",
    "for country in countries_2:\n",
    "    print(country)\n",
    "    df_country = df[df['Country Code'] == country]\n",
    "    df_country = df_country.drop(['Country Name', 'Country Code', 'Cluster'], axis=1)\n",
    "    l = len(df_country)\n",
    "    variable = []\n",
    "    means = []\n",
    "    variances = []\n",
    "    mins = []\n",
    "    maxs = []\n",
    "    chng = []\n",
    "    av_chng = []\n",
    "    pct_chng = []\n",
    "    for i in range(0, l):\n",
    "        variable.append(df_country.iloc[i,0])\n",
    "        row = df_country.iloc[i, 1:].astype(float).dropna()\n",
    "        if len(row) < 1:\n",
    "            means.append(np.nan)\n",
    "            variances.append(np.nan)\n",
    "            mins.append(np.nan)\n",
    "            maxs.append(np.nan)\n",
    "            chng.append(np.nan)\n",
    "            av_chng.append(np.nan)\n",
    "            pct_chng.append(np.nan)\n",
    "        else:\n",
    "            means.append(row.mean())\n",
    "            variances.append(row.std())\n",
    "            mins.append(row.min())\n",
    "            maxs.append(row.max())\n",
    "            if row.iloc[0] == 0:\n",
    "                chng.append(0)\n",
    "            else:\n",
    "                chng.append((row.iloc[-1]-row.iloc[0])/row.iloc[0]*100)\n",
    "            av_chng.append(row.diff().mean())\n",
    "            pct_chng.append(row.pct_change().mean())\n",
    "    df_ = pd.DataFrame([variable, means, variances, mins, maxs, chng, av_chng, pct_chng]).T\n",
    "    df_.columns = ['Переменная', 'Среднее значение', 'СКО', 'Минимальное значение', 'Максимальное значение', 'Изменение за период, %', 'Среднее изменение за период','Средний темп прироста, %']\n",
    "    df_.to_excel('{}_DS.xlsx'.format(country))\n",
    "    df_['Country Code'] = country\n",
    "    c2_stats = pd.concat([c2_stats, df_])\n",
    "c2_stats.to_excel('Middlers_DS.xlsx')"
   ]
  },
  {
   "cell_type": "code",
   "execution_count": 71,
   "metadata": {},
   "outputs": [],
   "source": [
    "agr_stats_2 = ['Среднее значение', 'СКО', 'Минимальное значение', 'Максимальное значение', 'Изменение за период, %', 'Среднее изменение за период','Средний темп прироста, %']\n",
    "agr_stats_2_values = []\n",
    "stat_2 = pd.DataFrame([])\n",
    "for stat in agr_stats_2:\n",
    "    stat_2_val = []\n",
    "    if stat == 'Минимальное значение':\n",
    "        for item in series:\n",
    "            stat_2_val.append(c2_stats[c2_stats['Переменная']==item][stat].min())\n",
    "            #print(min(c0_stats[c0_stats['Переменная']==item][stat]))\n",
    "    elif stat == 'Максимальное значение':\n",
    "        for item in series:\n",
    "            stat_2_val.append(c2_stats[c2_stats['Переменная']==item][stat].max())\n",
    "    else:\n",
    "        for item in series:\n",
    "            stat_2_val.append(c2_stats[c2_stats['Переменная']==item][stat].mean())\n",
    "    stat_2[stat] = stat_2_val\n",
    "stat_2.index = series\n",
    "stat_2[stat_2.index.isin(factors)].to_excel('AG_Middlers.xlsx')"
   ]
  },
  {
   "cell_type": "code",
   "execution_count": 72,
   "metadata": {},
   "outputs": [],
   "source": [
    "temp.to_excel('temp_for_DS.xlsx')"
   ]
  },
  {
   "cell_type": "code",
   "execution_count": null,
   "metadata": {},
   "outputs": [],
   "source": []
  }
 ],
 "metadata": {
  "kernelspec": {
   "display_name": "Python 3",
   "language": "python",
   "name": "python3"
  },
  "language_info": {
   "codemirror_mode": {
    "name": "ipython",
    "version": 3
   },
   "file_extension": ".py",
   "mimetype": "text/x-python",
   "name": "python",
   "nbconvert_exporter": "python",
   "pygments_lexer": "ipython3",
   "version": "3.7.3-final"
  }
 },
 "nbformat": 4,
 "nbformat_minor": 2
}