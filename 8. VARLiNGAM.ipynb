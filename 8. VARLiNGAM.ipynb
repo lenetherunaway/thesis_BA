{
 "cells": [
  {
   "cell_type": "markdown",
   "metadata": {},
   "source": [
    "# VARLiNGAM"
   ]
  },
  {
   "cell_type": "markdown",
   "metadata": {},
   "source": [
    "## Import and settings\n",
    "In this example, we need to import `numpy`, `pandas`, and `graphviz` in addition to `lingam`."
   ]
  },
  {
   "cell_type": "code",
   "execution_count": 67,
   "metadata": {},
   "outputs": [],
   "source": [
    "import os\n",
    "os.environ[\"PATH\"] += os.pathsep + '/Users/elena/opt/anaconda3/lib/python3.7/site-packages/graphviz'"
   ]
  },
  {
   "cell_type": "code",
   "execution_count": 68,
   "metadata": {},
   "outputs": [],
   "source": [
    "from sklearn.preprocessing import StandardScaler"
   ]
  },
  {
   "cell_type": "code",
   "execution_count": 70,
   "metadata": {},
   "outputs": [
    {
     "name": "stdout",
     "output_type": "stream",
     "text": [
      "['1.17.2', '0.25.1', '0.14', '1.2.1']\n"
     ]
    }
   ],
   "source": [
    "import numpy as np\n",
    "import pandas as pd\n",
    "import graphviz\n",
    "import lingam\n",
    "from lingam.utils import make_dot, print_causal_directions, print_dagc\n",
    "\n",
    "print([np.__version__, pd.__version__, graphviz.__version__, lingam.__version__])\n",
    "\n",
    "np.set_printoptions(precision=3, suppress=True)\n",
    "np.random.seed(8)"
   ]
  },
  {
   "cell_type": "markdown",
   "metadata": {},
   "source": [
    "## Test data\n",
    "We create test data consisting of 5 variables."
   ]
  },
  {
   "cell_type": "code",
   "execution_count": 71,
   "metadata": {},
   "outputs": [],
   "source": [
    "from sklearn.preprocessing import StandardScaler"
   ]
  },
  {
   "cell_type": "code",
   "execution_count": 72,
   "metadata": {},
   "outputs": [],
   "source": [
    "df = pd.read_csv('/Users/elena/Documents/Диплом/Data/russia.csv')"
   ]
  },
  {
   "cell_type": "code",
   "execution_count": 73,
   "metadata": {},
   "outputs": [],
   "source": [
    "df['lnGDP'] = np.log(df['gdp'])\n",
    "df['lnCO2'] = np.log(df['x5'])\n",
    "df['lnEn'] = np.log(df['x11'])"
   ]
  },
  {
   "cell_type": "code",
   "execution_count": 99,
   "metadata": {},
   "outputs": [],
   "source": [
    "df['dlnGDP']=df['lnGDP'].diff()\n",
    "df['dlnCO2'] = df['lnCO2'].diff()\n",
    "df['dlnEn'] = df['lnEn'].diff()\n",
    "df['dlnTr'] = df['lntr'].diff()"
   ]
  },
  {
   "cell_type": "code",
   "execution_count": 100,
   "metadata": {},
   "outputs": [],
   "source": [
    "X_raw = df[['temp', 'dlnGDP', 'dlnCO2', 'dlnEn', 'dlnTr']]"
   ]
  },
  {
   "cell_type": "code",
   "execution_count": 101,
   "metadata": {},
   "outputs": [
    {
     "data": {
      "text/html": [
       "<div>\n",
       "<style scoped>\n",
       "    .dataframe tbody tr th:only-of-type {\n",
       "        vertical-align: middle;\n",
       "    }\n",
       "\n",
       "    .dataframe tbody tr th {\n",
       "        vertical-align: top;\n",
       "    }\n",
       "\n",
       "    .dataframe thead th {\n",
       "        text-align: right;\n",
       "    }\n",
       "</style>\n",
       "<table border=\"1\" class=\"dataframe\">\n",
       "  <thead>\n",
       "    <tr style=\"text-align: right;\">\n",
       "      <th></th>\n",
       "      <th>temp</th>\n",
       "      <th>dlnGDP</th>\n",
       "      <th>dlnCO2</th>\n",
       "      <th>dlnEn</th>\n",
       "      <th>dlnTr</th>\n",
       "    </tr>\n",
       "  </thead>\n",
       "  <tbody>\n",
       "    <tr>\n",
       "      <td>0</td>\n",
       "      <td>-6.11068</td>\n",
       "      <td>NaN</td>\n",
       "      <td>NaN</td>\n",
       "      <td>NaN</td>\n",
       "      <td>NaN</td>\n",
       "    </tr>\n",
       "    <tr>\n",
       "      <td>1</td>\n",
       "      <td>-5.71303</td>\n",
       "      <td>-0.078599</td>\n",
       "      <td>-0.068703</td>\n",
       "      <td>-0.064830</td>\n",
       "      <td>-0.090092</td>\n",
       "    </tr>\n",
       "    <tr>\n",
       "      <td>2</td>\n",
       "      <td>-6.10001</td>\n",
       "      <td>-0.116346</td>\n",
       "      <td>-0.130973</td>\n",
       "      <td>-0.097810</td>\n",
       "      <td>-0.009272</td>\n",
       "    </tr>\n",
       "    <tr>\n",
       "      <td>3</td>\n",
       "      <td>-4.28530</td>\n",
       "      <td>-0.019856</td>\n",
       "      <td>-0.040458</td>\n",
       "      <td>-0.017329</td>\n",
       "      <td>-0.050391</td>\n",
       "    </tr>\n",
       "    <tr>\n",
       "      <td>4</td>\n",
       "      <td>-5.84359</td>\n",
       "      <td>-0.026375</td>\n",
       "      <td>-0.009954</td>\n",
       "      <td>-0.016823</td>\n",
       "      <td>-0.033485</td>\n",
       "    </tr>\n",
       "    <tr>\n",
       "      <td>5</td>\n",
       "      <td>-5.42981</td>\n",
       "      <td>0.017708</td>\n",
       "      <td>-0.053765</td>\n",
       "      <td>-0.016243</td>\n",
       "      <td>-0.012897</td>\n",
       "    </tr>\n",
       "    <tr>\n",
       "      <td>6</td>\n",
       "      <td>-6.49114</td>\n",
       "      <td>-0.411294</td>\n",
       "      <td>-0.018538</td>\n",
       "      <td>-0.017906</td>\n",
       "      <td>0.170542</td>\n",
       "    </tr>\n",
       "    <tr>\n",
       "      <td>7</td>\n",
       "      <td>-5.98445</td>\n",
       "      <td>-0.335554</td>\n",
       "      <td>0.026636</td>\n",
       "      <td>0.030633</td>\n",
       "      <td>-0.017162</td>\n",
       "    </tr>\n",
       "    <tr>\n",
       "      <td>8</td>\n",
       "      <td>-5.67297</td>\n",
       "      <td>0.264022</td>\n",
       "      <td>0.021538</td>\n",
       "      <td>0.039148</td>\n",
       "      <td>-0.067484</td>\n",
       "    </tr>\n",
       "    <tr>\n",
       "      <td>9</td>\n",
       "      <td>-5.63369</td>\n",
       "      <td>0.148529</td>\n",
       "      <td>0.003989</td>\n",
       "      <td>0.014507</td>\n",
       "      <td>0.033460</td>\n",
       "    </tr>\n",
       "    <tr>\n",
       "      <td>10</td>\n",
       "      <td>-5.25430</td>\n",
       "      <td>0.108263</td>\n",
       "      <td>0.004330</td>\n",
       "      <td>0.005682</td>\n",
       "      <td>0.021091</td>\n",
       "    </tr>\n",
       "    <tr>\n",
       "      <td>11</td>\n",
       "      <td>-4.95940</td>\n",
       "      <td>0.205823</td>\n",
       "      <td>0.034374</td>\n",
       "      <td>0.032224</td>\n",
       "      <td>0.025073</td>\n",
       "    </tr>\n",
       "    <tr>\n",
       "      <td>12</td>\n",
       "      <td>-5.71775</td>\n",
       "      <td>0.294711</td>\n",
       "      <td>0.002700</td>\n",
       "      <td>0.028028</td>\n",
       "      <td>0.071965</td>\n",
       "    </tr>\n",
       "    <tr>\n",
       "      <td>13</td>\n",
       "      <td>-4.63428</td>\n",
       "      <td>0.229887</td>\n",
       "      <td>0.011880</td>\n",
       "      <td>0.023897</td>\n",
       "      <td>-0.001575</td>\n",
       "    </tr>\n",
       "    <tr>\n",
       "      <td>14</td>\n",
       "      <td>-5.89711</td>\n",
       "      <td>0.232505</td>\n",
       "      <td>0.036264</td>\n",
       "      <td>0.055358</td>\n",
       "      <td>-0.000149</td>\n",
       "    </tr>\n",
       "    <tr>\n",
       "      <td>15</td>\n",
       "      <td>-4.11961</td>\n",
       "      <td>0.247460</td>\n",
       "      <td>0.000286</td>\n",
       "      <td>0.030284</td>\n",
       "      <td>0.009304</td>\n",
       "    </tr>\n",
       "    <tr>\n",
       "      <td>16</td>\n",
       "      <td>-4.50351</td>\n",
       "      <td>0.226364</td>\n",
       "      <td>0.028883</td>\n",
       "      <td>0.017916</td>\n",
       "      <td>0.048295</td>\n",
       "    </tr>\n",
       "    <tr>\n",
       "      <td>17</td>\n",
       "      <td>-5.76957</td>\n",
       "      <td>-0.314207</td>\n",
       "      <td>-0.086053</td>\n",
       "      <td>-0.048717</td>\n",
       "      <td>0.003889</td>\n",
       "    </tr>\n",
       "    <tr>\n",
       "      <td>18</td>\n",
       "      <td>-5.63587</td>\n",
       "      <td>0.208891</td>\n",
       "      <td>0.059044</td>\n",
       "      <td>0.050312</td>\n",
       "      <td>0.007275</td>\n",
       "    </tr>\n",
       "    <tr>\n",
       "      <td>19</td>\n",
       "      <td>-4.43382</td>\n",
       "      <td>0.275256</td>\n",
       "      <td>0.053325</td>\n",
       "      <td>0.011766</td>\n",
       "      <td>-0.025664</td>\n",
       "    </tr>\n",
       "    <tr>\n",
       "      <td>20</td>\n",
       "      <td>-4.98990</td>\n",
       "      <td>0.053779</td>\n",
       "      <td>0.035840</td>\n",
       "      <td>0.020053</td>\n",
       "      <td>-0.016813</td>\n",
       "    </tr>\n",
       "    <tr>\n",
       "      <td>21</td>\n",
       "      <td>-4.80609</td>\n",
       "      <td>0.019025</td>\n",
       "      <td>-0.031094</td>\n",
       "      <td>-0.011846</td>\n",
       "      <td>0.040831</td>\n",
       "    </tr>\n",
       "    <tr>\n",
       "      <td>22</td>\n",
       "      <td>-4.85584</td>\n",
       "      <td>-0.145548</td>\n",
       "      <td>-0.044214</td>\n",
       "      <td>0.009656</td>\n",
       "      <td>0.019068</td>\n",
       "    </tr>\n",
       "  </tbody>\n",
       "</table>\n",
       "</div>"
      ],
      "text/plain": [
       "       temp    dlnGDP    dlnCO2     dlnEn     dlnTr\n",
       "0  -6.11068       NaN       NaN       NaN       NaN\n",
       "1  -5.71303 -0.078599 -0.068703 -0.064830 -0.090092\n",
       "2  -6.10001 -0.116346 -0.130973 -0.097810 -0.009272\n",
       "3  -4.28530 -0.019856 -0.040458 -0.017329 -0.050391\n",
       "4  -5.84359 -0.026375 -0.009954 -0.016823 -0.033485\n",
       "5  -5.42981  0.017708 -0.053765 -0.016243 -0.012897\n",
       "6  -6.49114 -0.411294 -0.018538 -0.017906  0.170542\n",
       "7  -5.98445 -0.335554  0.026636  0.030633 -0.017162\n",
       "8  -5.67297  0.264022  0.021538  0.039148 -0.067484\n",
       "9  -5.63369  0.148529  0.003989  0.014507  0.033460\n",
       "10 -5.25430  0.108263  0.004330  0.005682  0.021091\n",
       "11 -4.95940  0.205823  0.034374  0.032224  0.025073\n",
       "12 -5.71775  0.294711  0.002700  0.028028  0.071965\n",
       "13 -4.63428  0.229887  0.011880  0.023897 -0.001575\n",
       "14 -5.89711  0.232505  0.036264  0.055358 -0.000149\n",
       "15 -4.11961  0.247460  0.000286  0.030284  0.009304\n",
       "16 -4.50351  0.226364  0.028883  0.017916  0.048295\n",
       "17 -5.76957 -0.314207 -0.086053 -0.048717  0.003889\n",
       "18 -5.63587  0.208891  0.059044  0.050312  0.007275\n",
       "19 -4.43382  0.275256  0.053325  0.011766 -0.025664\n",
       "20 -4.98990  0.053779  0.035840  0.020053 -0.016813\n",
       "21 -4.80609  0.019025 -0.031094 -0.011846  0.040831\n",
       "22 -4.85584 -0.145548 -0.044214  0.009656  0.019068"
      ]
     },
     "execution_count": 101,
     "metadata": {},
     "output_type": "execute_result"
    }
   ],
   "source": [
    "X_raw"
   ]
  },
  {
   "cell_type": "code",
   "execution_count": 102,
   "metadata": {},
   "outputs": [],
   "source": [
    "standard_scaler = StandardScaler(with_std=False)\n",
    "X = standard_scaler.fit_transform(X_raw)"
   ]
  },
  {
   "cell_type": "code",
   "execution_count": 103,
   "metadata": {},
   "outputs": [],
   "source": [
    "#X = np.array(df[['temp', 'lnGDP', 'lnCO2', 'lnEn']])"
   ]
  },
  {
   "cell_type": "code",
   "execution_count": 105,
   "metadata": {},
   "outputs": [],
   "source": [
    "# B0 = [\n",
    "#     [0,-0.12,0,0,0],\n",
    "#     [0,0,0,0,0],\n",
    "#     [-0.41,0.01,0,-0.02,0],\n",
    "#     [0.04,-0.22,0,0,0],\n",
    "#     [0.15,0,-0.03,0,0],\n",
    "# ]\n",
    "# B1 = [\n",
    "#     [-0.32,0,0.12,0.32,0],\n",
    "#     [0,-0.35,-0.1,-0.46,0.4],\n",
    "#     [0,0,0.37,0,0.46],\n",
    "#     [-0.38,-0.1,-0.24,0,-0.13],\n",
    "#     [0,0,0,0,0],\n",
    "#  ]\n",
    "causal_order = [3, 2, 1, 0, 0]\n",
    "\n",
    "# data generated from B0 and B1\n",
    "#X = pd.read_csv('data/sample_data_var_lingam.csv')"
   ]
  },
  {
   "cell_type": "markdown",
   "metadata": {},
   "source": [
    "## Causal Discovery\n",
    "To run causal discovery, we create a `VARLiNGAM` object and call the `fit` method."
   ]
  },
  {
   "cell_type": "code",
   "execution_count": 106,
   "metadata": {},
   "outputs": [
    {
     "data": {
      "text/plain": [
       "<lingam.var_lingam.VARLiNGAM at 0x1a1fb4e6d0>"
      ]
     },
     "execution_count": 106,
     "metadata": {},
     "output_type": "execute_result"
    }
   ],
   "source": [
    "model = lingam.VARLiNGAM()\n",
    "model.fit(X[1:])"
   ]
  },
  {
   "cell_type": "markdown",
   "metadata": {},
   "source": [
    "Using the `causal_order_` properties, we can see the causal ordering as a result of the causal discovery."
   ]
  },
  {
   "cell_type": "code",
   "execution_count": 107,
   "metadata": {},
   "outputs": [
    {
     "data": {
      "text/plain": [
       "[3, 2, 4, 1, 0]"
      ]
     },
     "execution_count": 107,
     "metadata": {},
     "output_type": "execute_result"
    }
   ],
   "source": [
    "model.causal_order_"
   ]
  },
  {
   "cell_type": "markdown",
   "metadata": {},
   "source": [
    "Also, using the `adjacency_matrices_` properties, we can see the adjacency matrix as a result of the causal discovery."
   ]
  },
  {
   "cell_type": "code",
   "execution_count": 108,
   "metadata": {},
   "outputs": [
    {
     "data": {
      "text/plain": [
       "array([[[0.   , 1.1  , 0.   , 0.   , 0.   ],\n",
       "        [0.   , 0.   , 0.686, 1.214, 0.   ],\n",
       "        [0.   , 0.   , 0.   , 1.147, 0.   ],\n",
       "        [0.   , 0.   , 0.   , 0.   , 0.   ],\n",
       "        [0.   , 0.   , 0.   , 0.   , 0.   ]]])"
      ]
     },
     "execution_count": 108,
     "metadata": {},
     "output_type": "execute_result"
    }
   ],
   "source": [
    "model.adjacency_matrices_"
   ]
  },
  {
   "cell_type": "code",
   "execution_count": 109,
   "metadata": {},
   "outputs": [
    {
     "data": {
      "text/plain": [
       "array([[0.   , 1.1  , 0.   , 0.   , 0.   ],\n",
       "       [0.   , 0.   , 0.686, 1.214, 0.   ],\n",
       "       [0.   , 0.   , 0.   , 1.147, 0.   ],\n",
       "       [0.   , 0.   , 0.   , 0.   , 0.   ],\n",
       "       [0.   , 0.   , 0.   , 0.   , 0.   ]])"
      ]
     },
     "execution_count": 109,
     "metadata": {},
     "output_type": "execute_result"
    }
   ],
   "source": [
    "# B0\n",
    "model.adjacency_matrices_[0]"
   ]
  },
  {
   "cell_type": "code",
   "execution_count": 110,
   "metadata": {
    "scrolled": true
   },
   "outputs": [
    {
     "ename": "IndexError",
     "evalue": "index 1 is out of bounds for axis 0 with size 1",
     "output_type": "error",
     "traceback": [
      "\u001b[0;31m---------------------------------------------------------------------------\u001b[0m",
      "\u001b[0;31mIndexError\u001b[0m                                Traceback (most recent call last)",
      "\u001b[0;32m<ipython-input-110-2c875d59dc63>\u001b[0m in \u001b[0;36m<module>\u001b[0;34m\u001b[0m\n\u001b[1;32m      1\u001b[0m \u001b[0;31m# B1\u001b[0m\u001b[0;34m\u001b[0m\u001b[0;34m\u001b[0m\u001b[0;34m\u001b[0m\u001b[0m\n\u001b[0;32m----> 2\u001b[0;31m \u001b[0mmodel\u001b[0m\u001b[0;34m.\u001b[0m\u001b[0madjacency_matrices_\u001b[0m\u001b[0;34m[\u001b[0m\u001b[0;36m1\u001b[0m\u001b[0;34m]\u001b[0m\u001b[0;34m\u001b[0m\u001b[0;34m\u001b[0m\u001b[0m\n\u001b[0m",
      "\u001b[0;31mIndexError\u001b[0m: index 1 is out of bounds for axis 0 with size 1"
     ]
    }
   ],
   "source": [
    "# B1\n",
    "model.adjacency_matrices_[1]"
   ]
  },
  {
   "cell_type": "markdown",
   "metadata": {},
   "source": [
    "We can draw a causal graph by utility funciton."
   ]
  },
  {
   "cell_type": "code",
   "execution_count": 111,
   "metadata": {},
   "outputs": [
    {
     "data": {
      "image/svg+xml": [
       "<?xml version=\"1.0\" encoding=\"UTF-8\" standalone=\"no\"?>\n",
       "<!DOCTYPE svg PUBLIC \"-//W3C//DTD SVG 1.1//EN\"\n",
       " \"http://www.w3.org/Graphics/SVG/1.1/DTD/svg11.dtd\">\n",
       "<!-- Generated by graphviz version 2.44.0 (20200408.0750)\n",
       " -->\n",
       "<!-- Pages: 1 -->\n",
       "<svg width=\"166pt\" height=\"305pt\"\n",
       " viewBox=\"0.00 0.00 166.19 305.00\" xmlns=\"http://www.w3.org/2000/svg\" xmlns:xlink=\"http://www.w3.org/1999/xlink\">\n",
       "<g id=\"graph0\" class=\"graph\" transform=\"scale(1 1) rotate(0) translate(4 301)\">\n",
       "<polygon fill=\"white\" stroke=\"transparent\" points=\"-4,4 -4,-301 162.19,-301 162.19,4 -4,4\"/>\n",
       "<!-- temp(t) -->\n",
       "<g id=\"node1\" class=\"node\">\n",
       "<title>temp(t)</title>\n",
       "<ellipse fill=\"none\" stroke=\"black\" cx=\"48.75\" cy=\"-18\" rx=\"37.09\" ry=\"18\"/>\n",
       "<text text-anchor=\"middle\" x=\"48.75\" y=\"-14.3\" font-family=\"Times,serif\" font-size=\"14.00\">temp(t)</text>\n",
       "</g>\n",
       "<!-- lnGDP(t) -->\n",
       "<g id=\"node2\" class=\"node\">\n",
       "<title>lnGDP(t)</title>\n",
       "<ellipse fill=\"none\" stroke=\"black\" cx=\"48.75\" cy=\"-105\" rx=\"43.59\" ry=\"18\"/>\n",
       "<text text-anchor=\"middle\" x=\"48.75\" y=\"-101.3\" font-family=\"Times,serif\" font-size=\"14.00\">lnGDP(t)</text>\n",
       "</g>\n",
       "<!-- lnGDP(t)&#45;&gt;temp(t) -->\n",
       "<g id=\"edge1\" class=\"edge\">\n",
       "<title>lnGDP(t)&#45;&gt;temp(t)</title>\n",
       "<path fill=\"none\" stroke=\"black\" d=\"M48.75,-86.8C48.75,-75.16 48.75,-59.55 48.75,-46.24\"/>\n",
       "<polygon fill=\"black\" stroke=\"black\" points=\"52.25,-46.18 48.75,-36.18 45.25,-46.18 52.25,-46.18\"/>\n",
       "<text text-anchor=\"middle\" x=\"61.25\" y=\"-57.8\" font-family=\"Times,serif\" font-size=\"14.00\">1.10</text>\n",
       "</g>\n",
       "<!-- lnCO2(t) -->\n",
       "<g id=\"node3\" class=\"node\">\n",
       "<title>lnCO2(t)</title>\n",
       "<ellipse fill=\"none\" stroke=\"black\" cx=\"104.75\" cy=\"-192\" rx=\"42.49\" ry=\"18\"/>\n",
       "<text text-anchor=\"middle\" x=\"104.75\" y=\"-188.3\" font-family=\"Times,serif\" font-size=\"14.00\">lnCO2(t)</text>\n",
       "</g>\n",
       "<!-- lnCO2(t)&#45;&gt;lnGDP(t) -->\n",
       "<g id=\"edge2\" class=\"edge\">\n",
       "<title>lnCO2(t)&#45;&gt;lnGDP(t)</title>\n",
       "<path fill=\"none\" stroke=\"black\" d=\"M93.68,-174.21C85.58,-161.9 74.44,-145 65.28,-131.09\"/>\n",
       "<polygon fill=\"black\" stroke=\"black\" points=\"68.02,-128.89 59.6,-122.47 62.18,-132.75 68.02,-128.89\"/>\n",
       "<text text-anchor=\"middle\" x=\"92.25\" y=\"-144.8\" font-family=\"Times,serif\" font-size=\"14.00\">0.69</text>\n",
       "</g>\n",
       "<!-- lnEn(t) -->\n",
       "<g id=\"node4\" class=\"node\">\n",
       "<title>lnEn(t)</title>\n",
       "<ellipse fill=\"none\" stroke=\"black\" cx=\"35.75\" cy=\"-279\" rx=\"36\" ry=\"18\"/>\n",
       "<text text-anchor=\"middle\" x=\"35.75\" y=\"-275.3\" font-family=\"Times,serif\" font-size=\"14.00\">lnEn(t)</text>\n",
       "</g>\n",
       "<!-- lnEn(t)&#45;&gt;lnGDP(t) -->\n",
       "<g id=\"edge3\" class=\"edge\">\n",
       "<title>lnEn(t)&#45;&gt;lnGDP(t)</title>\n",
       "<path fill=\"none\" stroke=\"black\" d=\"M32.42,-260.98C28.89,-240.32 24.36,-204.45 28.75,-174 30.75,-160.11 34.94,-145.1 38.97,-132.72\"/>\n",
       "<polygon fill=\"black\" stroke=\"black\" points=\"42.36,-133.62 42.26,-123.03 35.73,-131.37 42.36,-133.62\"/>\n",
       "<text text-anchor=\"middle\" x=\"41.25\" y=\"-188.3\" font-family=\"Times,serif\" font-size=\"14.00\">1.21</text>\n",
       "</g>\n",
       "<!-- lnEn(t)&#45;&gt;lnCO2(t) -->\n",
       "<g id=\"edge4\" class=\"edge\">\n",
       "<title>lnEn(t)&#45;&gt;lnCO2(t)</title>\n",
       "<path fill=\"none\" stroke=\"black\" d=\"M48.73,-262.01C58.97,-249.39 73.44,-231.57 85.1,-217.2\"/>\n",
       "<polygon fill=\"black\" stroke=\"black\" points=\"88.01,-219.17 91.59,-209.21 82.57,-214.76 88.01,-219.17\"/>\n",
       "<text text-anchor=\"middle\" x=\"86.25\" y=\"-231.8\" font-family=\"Times,serif\" font-size=\"14.00\">1.15</text>\n",
       "</g>\n",
       "<!-- lnTr(t) -->\n",
       "<g id=\"node5\" class=\"node\">\n",
       "<title>lnTr(t)</title>\n",
       "<ellipse fill=\"none\" stroke=\"black\" cx=\"123.75\" cy=\"-279\" rx=\"34.39\" ry=\"18\"/>\n",
       "<text text-anchor=\"middle\" x=\"123.75\" y=\"-275.3\" font-family=\"Times,serif\" font-size=\"14.00\">lnTr(t)</text>\n",
       "</g>\n",
       "</g>\n",
       "</svg>\n"
      ],
      "text/plain": [
       "<graphviz.dot.Digraph at 0x1a1fb4e3d0>"
      ]
     },
     "execution_count": 111,
     "metadata": {},
     "output_type": "execute_result"
    }
   ],
   "source": [
    "labels = ['temp(t)', 'lnGDP(t)', 'lnCO2(t)', 'lnEn(t)', 'lnTr(t)']\n",
    "make_dot(np.hstack(model.adjacency_matrices_), ignore_shape=True, lower_limit=0.05, labels=labels)"
   ]
  },
  {
   "cell_type": "markdown",
   "metadata": {},
   "source": [
    "## Bootstrap"
   ]
  },
  {
   "cell_type": "markdown",
   "metadata": {},
   "source": [
    "### Bootstrapping\n",
    "We call `bootstrap()` method instead of `fit()`. Here, the second argument specifies the number of bootstrap sampling."
   ]
  },
  {
   "cell_type": "code",
   "execution_count": 112,
   "metadata": {},
   "outputs": [],
   "source": [
    "model = lingam.VARLiNGAM()\n",
    "result = model.bootstrap(X[1:], 100)"
   ]
  },
  {
   "cell_type": "code",
   "execution_count": 118,
   "metadata": {},
   "outputs": [],
   "source": [
    "labels = ['temp(t)', 'dlnGDP(t)', 'dlnCO2(t)', 'dlnEn(t)', 'dlnTr']"
   ]
  },
  {
   "cell_type": "markdown",
   "metadata": {},
   "source": [
    "Since `BootstrapResult` object is returned, we can get the ranking of the causal directions extracted by `get_causal_direction_counts()` method. In the following sample code, `n_directions` option is limited to the causal directions of the top 8 rankings, and `min_causal_effect` option is limited to causal directions with a coefficient of 0.3 or more."
   ]
  },
  {
   "cell_type": "code",
   "execution_count": 119,
   "metadata": {},
   "outputs": [],
   "source": [
    "cdc = result.get_causal_direction_counts(n_directions=20, min_causal_effect=0.3, split_by_causal_effect_sign=True)"
   ]
  },
  {
   "cell_type": "code",
   "execution_count": 120,
   "metadata": {},
   "outputs": [
    {
     "data": {
      "text/plain": [
       "{'from': [6, 9, 9, 7, 8, 8, 8, 7, 8, 7, 8, 2, 3, 7, 7, 1, 2, 7, 3, 4],\n",
       " 'to': [0, 0, 1, 4, 4, 1, 0, 1, 3, 0, 2, 3, 2, 2, 3, 0, 1, 0, 1, 0],\n",
       " 'count': [100,\n",
       "  100,\n",
       "  100,\n",
       "  100,\n",
       "  99,\n",
       "  98,\n",
       "  92,\n",
       "  84,\n",
       "  80,\n",
       "  69,\n",
       "  64,\n",
       "  50,\n",
       "  50,\n",
       "  45,\n",
       "  44,\n",
       "  34,\n",
       "  31,\n",
       "  29,\n",
       "  21,\n",
       "  15],\n",
       " 'sign': [1, 1, -1, -1, 1, 1, -1, -1, 1, -1, 1, 1, 1, -1, -1, 1, 1, 1, 1, -1]}"
      ]
     },
     "execution_count": 120,
     "metadata": {},
     "output_type": "execute_result"
    }
   ],
   "source": [
    "cdc"
   ]
  },
  {
   "cell_type": "markdown",
   "metadata": {},
   "source": [
    "We can check the result by utility function."
   ]
  },
  {
   "cell_type": "code",
   "execution_count": 121,
   "metadata": {},
   "outputs": [
    {
     "ename": "IndexError",
     "evalue": "list index out of range",
     "output_type": "error",
     "traceback": [
      "\u001b[0;31m---------------------------------------------------------------------------\u001b[0m",
      "\u001b[0;31mIndexError\u001b[0m                                Traceback (most recent call last)",
      "\u001b[0;32m<ipython-input-121-78f61007fd42>\u001b[0m in \u001b[0;36m<module>\u001b[0;34m\u001b[0m\n\u001b[0;32m----> 1\u001b[0;31m \u001b[0mprint_causal_directions\u001b[0m\u001b[0;34m(\u001b[0m\u001b[0mcdc\u001b[0m\u001b[0;34m,\u001b[0m \u001b[0;36m100\u001b[0m\u001b[0;34m,\u001b[0m \u001b[0mlabels\u001b[0m\u001b[0;34m=\u001b[0m\u001b[0mlabels\u001b[0m\u001b[0;34m)\u001b[0m\u001b[0;34m\u001b[0m\u001b[0;34m\u001b[0m\u001b[0m\n\u001b[0m",
      "\u001b[0;32m~/opt/anaconda3/lib/python3.7/site-packages/lingam/utils/__init__.py\u001b[0m in \u001b[0;36mprint_causal_directions\u001b[0;34m(cdc, n_sampling, labels)\u001b[0m\n\u001b[1;32m     30\u001b[0m         \u001b[0;32mif\u001b[0m \u001b[0mlabels\u001b[0m\u001b[0;34m:\u001b[0m\u001b[0;34m\u001b[0m\u001b[0;34m\u001b[0m\u001b[0m\n\u001b[1;32m     31\u001b[0m             print(\n\u001b[0;32m---> 32\u001b[0;31m                 f'{labels[to]} <--- {labels[fr]} {sign} ({100*co/n_sampling:.1f}%)')\n\u001b[0m\u001b[1;32m     33\u001b[0m         \u001b[0;32melse\u001b[0m\u001b[0;34m:\u001b[0m\u001b[0;34m\u001b[0m\u001b[0;34m\u001b[0m\u001b[0m\n\u001b[1;32m     34\u001b[0m             \u001b[0mprint\u001b[0m\u001b[0;34m(\u001b[0m\u001b[0;34mf'x{to} <--- x{fr} {sign} ({100*co/n_sampling:.1f}%)'\u001b[0m\u001b[0;34m)\u001b[0m\u001b[0;34m\u001b[0m\u001b[0;34m\u001b[0m\u001b[0m\n",
      "\u001b[0;31mIndexError\u001b[0m: list index out of range"
     ]
    }
   ],
   "source": [
    "print_causal_directions(cdc, 100, labels=labels)"
   ]
  },
  {
   "cell_type": "markdown",
   "metadata": {},
   "source": [
    "Also, using the `get_directed_acyclic_graph_counts()` method, we can get the ranking of the DAGs extracted. In the following sample code, `n_dags` option is limited to the dags of the top 3 rankings, and `min_causal_effect` option is limited to causal directions with a coefficient of 0.2 or more."
   ]
  },
  {
   "cell_type": "code",
   "execution_count": 220,
   "metadata": {},
   "outputs": [],
   "source": [
    "dagc = result.get_directed_acyclic_graph_counts(n_dags=3, min_causal_effect=0.2, split_by_causal_effect_sign=True)"
   ]
  },
  {
   "cell_type": "markdown",
   "metadata": {},
   "source": [
    "We can check the result by utility function."
   ]
  },
  {
   "cell_type": "code",
   "execution_count": 221,
   "metadata": {},
   "outputs": [
    {
     "name": "stdout",
     "output_type": "stream",
     "text": [
      "DAG[0]: 36.0%\n",
      "\ttemp(t) <--- dlnGDP(t) (b>0)\n",
      "\ttemp(t) <--- temp(t-1) (b<0)\n",
      "\ttemp(t) <--- dlnGDP(t-1) (b>0)\n",
      "\ttemp(t) <--- dlnEn(t-1) (b<0)\n",
      "\tdlnGDP(t) <--- dlnCO2(t-1) (b<0)\n",
      "\tdlnGDP(t) <--- dlnEn(t-1) (b>0)\n",
      "\tdlnCO2(t) <--- dlnEn(t) (b>0)\n",
      "\tdlnEn(t) <--- dlnGDP(t) (b>0)\n",
      "\tdlnEn(t) <--- dlnGDP(t-1) (b<0)\n",
      "\tdlnEn(t) <--- dlnCO2(t-1) (b<0)\n",
      "\tdlnEn(t) <--- dlnEn(t-1) (b>0)\n",
      "DAG[1]: 23.0%\n",
      "\ttemp(t) <--- temp(t-1) (b<0)\n",
      "\ttemp(t) <--- dlnGDP(t-1) (b>0)\n",
      "\tdlnGDP(t) <--- dlnCO2(t-1) (b<0)\n",
      "\tdlnGDP(t) <--- dlnEn(t-1) (b>0)\n",
      "\tdlnCO2(t) <--- dlnEn(t) (b>0)\n",
      "\tdlnEn(t) <--- dlnGDP(t-1) (b<0)\n",
      "\tdlnEn(t) <--- dlnCO2(t-1) (b<0)\n",
      "\tdlnEn(t) <--- dlnEn(t-1) (b>0)\n",
      "DAG[2]: 23.0%\n",
      "\ttemp(t) <--- temp(t-1) (b<0)\n",
      "\ttemp(t) <--- dlnGDP(t-1) (b>0)\n",
      "\tdlnGDP(t) <--- dlnCO2(t-1) (b<0)\n",
      "\tdlnGDP(t) <--- dlnEn(t-1) (b>0)\n",
      "\tdlnCO2(t) <--- dlnEn(t) (b>0)\n",
      "\tdlnEn(t) <--- dlnGDP(t) (b>0)\n",
      "\tdlnEn(t) <--- dlnGDP(t-1) (b<0)\n",
      "\tdlnEn(t) <--- dlnCO2(t-1) (b<0)\n",
      "\tdlnEn(t) <--- dlnEn(t-1) (b>0)\n"
     ]
    }
   ],
   "source": [
    "print_dagc(dagc, 100, labels=labels)"
   ]
  },
  {
   "cell_type": "markdown",
   "metadata": {},
   "source": [
    "Using the `get_probabilities()` method, we can get the probability of bootstrapping."
   ]
  },
  {
   "cell_type": "code",
   "execution_count": 196,
   "metadata": {},
   "outputs": [
    {
     "name": "stdout",
     "output_type": "stream",
     "text": [
      "Probability of B0:\n",
      " [[0.   0.45 0.03 0.07]\n",
      " [0.31 0.   0.19 0.35]\n",
      " [0.02 0.24 0.   0.56]\n",
      " [0.06 0.24 0.44 0.  ]]\n",
      "Probability of B1:\n",
      " [[1.   1.   0.29 0.45]\n",
      " [0.71 0.87 0.78 0.9 ]\n",
      " [0.15 0.53 0.57 0.77]\n",
      " [0.03 0.8  0.98 0.99]]\n"
     ]
    }
   ],
   "source": [
    "prob = result.get_probabilities(min_causal_effect=0.1)\n",
    "print('Probability of B0:\\n', prob[0])\n",
    "print('Probability of B1:\\n', prob[1])"
   ]
  },
  {
   "cell_type": "code",
   "execution_count": null,
   "metadata": {},
   "outputs": [],
   "source": []
  },
  {
   "cell_type": "code",
   "execution_count": null,
   "metadata": {},
   "outputs": [],
   "source": []
  }
 ],
 "metadata": {
  "kernelspec": {
   "display_name": "Python 3",
   "language": "python",
   "name": "python3"
  },
  "language_info": {
   "codemirror_mode": {
    "name": "ipython",
    "version": 3
   },
   "file_extension": ".py",
   "mimetype": "text/x-python",
   "name": "python",
   "nbconvert_exporter": "python",
   "pygments_lexer": "ipython3",
   "version": "3.7.4"
  }
 },
 "nbformat": 4,
 "nbformat_minor": 4
}
