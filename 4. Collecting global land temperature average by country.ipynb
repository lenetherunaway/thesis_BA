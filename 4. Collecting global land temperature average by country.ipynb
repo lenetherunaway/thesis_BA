{
 "cells": [
  {
   "cell_type": "code",
   "execution_count": 2,
   "metadata": {},
   "outputs": [],
   "source": [
    "import pandas as pd\n",
    "import glob"
   ]
  },
  {
   "cell_type": "code",
   "execution_count": 9,
   "metadata": {
    "scrolled": true
   },
   "outputs": [],
   "source": [
    "for path in glob.glob('/Users/elena/Documents/Диплом/Data/температура по странам/raw data/*.csv'):\n",
    "    df = pd.read_csv(path)\n",
    "    df.to_csv('{}.csv'.format(path[-7:-4]), index=False)\n",
    "#     print(df.columns)\n",
    "#     df.index = range(0, 312)\n",
    "#     print(path[-7:-4])\n",
    "#     print(df.columns[1])\n",
    "#     print(df.columns[0])\n",
    "#     years = sorted(list(set(df[df.columns[1]])))\n",
    "#     print(years)\n",
    "#     c = []\n",
    "#     for year in years:\n",
    "#         c.append(df[df[df.columns[1]]==int(year)][df.columns[0]].mean())\n",
    "#     print(path[-7:-4])\n",
    "#     df_new = pd.DataFrame([years, c]).T\n",
    "#     df_new.columns = ['t', 'AvT']\n",
    "#     df_new.to_excel('{}.xlsx'.format(path[-7:-4]))"
   ]
  },
  {
   "cell_type": "code",
   "execution_count": 10,
   "metadata": {},
   "outputs": [
    {
     "name": "stdout",
     "output_type": "stream",
     "text": [
      "1 CHN\n",
      "2 TJK\n",
      "3 EST\n",
      "4 BLR\n",
      "5 ISL\n",
      "6 MDA\n",
      "7 THA\n",
      "8 TKM\n",
      "9 CHL\n",
      "10 GEO\n",
      "11 BOL\n",
      "12 LVA\n",
      "13 JOR\n",
      "14 ARE\n",
      "15 IRL\n",
      "16 GRC\n",
      "17 KGZ\n",
      "18 IRN\n",
      "19 ESP\n",
      "20 PER\n",
      "21 JAM\n",
      "22 ARG\n",
      "23 UZB\n",
      "24 ROU\n",
      "25 PAK\n",
      "26 AUS\n",
      "27 TTO\n",
      "28 FIN\n",
      "29 CYP\n",
      "30 IND\n",
      "31 BRA\n",
      "32 KAZ\n",
      "33 BGD\n",
      "34 BEL\n",
      "35 FRA\n",
      "36 ZAF\n",
      "37 AUT\n",
      "38 BGR\n",
      "39 KOR\n",
      "40 KWT\n",
      "41 PAN\n",
      "42 COL\n",
      "43 MNG\n",
      "44 TZA\n",
      "45 TUN\n",
      "46 UKR\n",
      "47 ITA\n",
      "48 HRV\n",
      "49 MLT\n",
      "50 MAR\n",
      "51 ZWE\n",
      "52 RUS\n",
      "53 NPL\n",
      "54 MMR\n",
      "55 MOZ\n",
      "56 USA\n",
      "57 LKA\n",
      "58 GBR\n",
      "59 MYS\n",
      "60 TUR\n",
      "61 AZE\n",
      "62 SEN\n",
      "63 DEU\n",
      "64 SGP\n",
      "65 NGA\n",
      "66 ECU\n",
      "67 POL\n",
      "68 MUS\n",
      "69 JPN\n",
      "70 CAN\n",
      "71 CZE\n",
      "72 ETH\n",
      "73 BRN\n",
      "74 EGY\n",
      "75 CRI\n",
      "76 MEX\n",
      "77 SAU\n",
      "78 VEN\n",
      "79 IDN\n",
      "80 PRT\n",
      "81 NZL\n",
      "82 ISR\n",
      "83 CHE\n",
      "84 QAT\n",
      "85 PHL\n",
      "86 NLD\n",
      "87 KEN\n",
      "88 LBN\n",
      "89 LBY\n",
      "90 DZA\n",
      "91 AGO\n",
      "92 SLV\n",
      "93 SVN\n",
      "94 LTU\n"
     ]
    }
   ],
   "source": [
    "i=1\n",
    "for path in glob.glob('/Users/elena/Documents/Диплом/Data/температура по странам/*.csv'):\n",
    "    df = pd.read_csv(path)\n",
    "    print(i, path[-7:-4])\n",
    "    i += 1\n",
    "    years = sorted(list(set(df[' Year'])))\n",
    "    c = []\n",
    "    for year in years:\n",
    "        c.append(df[df[df.columns[1]]==int(year)][df.columns[0]].mean())\n",
    "    df_new = pd.DataFrame([years, c]).T\n",
    "    df_new.columns = ['t', 'AvT']\n",
    "    df_new.to_excel('{}.xlsx'.format(path[-7:-4]))"
   ]
  },
  {
   "cell_type": "code",
   "execution_count": 11,
   "metadata": {
    "scrolled": true
   },
   "outputs": [],
   "source": [
    "years = list(range(1992,2015))\n",
    "df_all = pd.DataFrame(years, columns=['t'])\n",
    "c = []\n",
    "names = []\n",
    "for path in glob.glob('/Users/elena/Documents/Диплом/Data/температура по странам/*.xlsx'):\n",
    "    #print(path[-8:-5])\n",
    "    df_country = pd.read_excel(path)\n",
    "    names.append(path[-8:-5])\n",
    "    c.append(df_country[df_country['t'].isin(years)]['AvT'])"
   ]
  },
  {
   "cell_type": "code",
   "execution_count": 12,
   "metadata": {},
   "outputs": [],
   "source": [
    "final_df = pd.DataFrame(c).T\n",
    "final_df.columns = names\n",
    "final_df.index=years\n",
    "# final_df['t']=years"
   ]
  },
  {
   "cell_type": "code",
   "execution_count": 13,
   "metadata": {},
   "outputs": [],
   "source": [
    "final_df.to_excel('/Users/elena/Documents/Диплом/Data/av_temperature.xlsx')"
   ]
  },
  {
   "cell_type": "code",
   "execution_count": 14,
   "metadata": {},
   "outputs": [],
   "source": [
    "inputPath = '/Users/elena/Documents/Диплом/Data/температура по странам/usa and china/*.csv'"
   ]
  },
  {
   "cell_type": "code",
   "execution_count": 21,
   "metadata": {},
   "outputs": [
    {
     "name": "stdout",
     "output_type": "stream",
     "text": [
      "/Users/elena/Documents/Диплом/Data/температура по странам/usa and china/tas_1901_2016_CHN.csv\n",
      "CHN\n",
      "/Users/elena/Documents/Диплом/Data/температура по странам/usa and china/tas_1901_2016_USA.csv\n",
      "USA\n"
     ]
    }
   ],
   "source": [
    "for path in glob.glob(inputPath):\n",
    "    print(path)\n",
    "    df = pd.read_csv(path)\n",
    "    print(path[-7:-4])\n",
    "    years = sorted(list(set(df[' Year'])))\n",
    "    years = years[73:-2]\n",
    "    c = []\n",
    "    for year in years:\n",
    "        c.append(df[df[df.columns[1]]==int(year)][df.columns[0]].mean())\n",
    "    df_new = pd.DataFrame([years, c]).T\n",
    "    df_new.columns = ['t', 'AvT']\n",
    "    df_new.to_excel('{}_long.xlsx'.format(path[-7:-4]))"
   ]
  },
  {
   "cell_type": "code",
   "execution_count": 20,
   "metadata": {},
   "outputs": [
    {
     "data": {
      "text/plain": [
       "[1974,\n",
       " 1975,\n",
       " 1976,\n",
       " 1977,\n",
       " 1978,\n",
       " 1979,\n",
       " 1980,\n",
       " 1981,\n",
       " 1982,\n",
       " 1983,\n",
       " 1984,\n",
       " 1985,\n",
       " 1986,\n",
       " 1987,\n",
       " 1988,\n",
       " 1989,\n",
       " 1990,\n",
       " 1991,\n",
       " 1992,\n",
       " 1993,\n",
       " 1994,\n",
       " 1995,\n",
       " 1996,\n",
       " 1997,\n",
       " 1998,\n",
       " 1999,\n",
       " 2000,\n",
       " 2001,\n",
       " 2002,\n",
       " 2003,\n",
       " 2004,\n",
       " 2005,\n",
       " 2006,\n",
       " 2007,\n",
       " 2008,\n",
       " 2009,\n",
       " 2010,\n",
       " 2011,\n",
       " 2012,\n",
       " 2013,\n",
       " 2014]"
      ]
     },
     "execution_count": 20,
     "metadata": {},
     "output_type": "execute_result"
    }
   ],
   "source": [
    "years[73:-2]"
   ]
  },
  {
   "cell_type": "code",
   "execution_count": null,
   "metadata": {},
   "outputs": [],
   "source": []
  }
 ],
 "metadata": {
  "kernelspec": {
   "display_name": "Python 3",
   "language": "python",
   "name": "python3"
  },
  "language_info": {
   "codemirror_mode": {
    "name": "ipython",
    "version": 3
   },
   "file_extension": ".py",
   "mimetype": "text/x-python",
   "name": "python",
   "nbconvert_exporter": "python",
   "pygments_lexer": "ipython3",
   "version": "3.7.4"
  }
 },
 "nbformat": 4,
 "nbformat_minor": 2
}
